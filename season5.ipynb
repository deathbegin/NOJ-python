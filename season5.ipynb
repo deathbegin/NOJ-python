{
 "cells": [
  {
   "cell_type": "code",
   "execution_count": 4,
   "metadata": {},
   "outputs": [
    {
     "name": "stdout",
     "output_type": "stream",
     "text": [
      "60\n"
     ]
    }
   ],
   "source": [
    "# 040,s5-1\n",
    "class Person:\n",
    "    def __init__(self, name, weight, height, gender):\n",
    "        self.name = str(name)\n",
    "        self.weight = float(weight)\n",
    "        self.height = float(height)\n",
    "        self.gender = gender\n",
    "\n",
    "    def bmi(self):\n",
    "        print(int((self.height-70)*0.6))\n",
    "\n",
    "\n",
    "li = list(input().split(' '))\n",
    "p = Person(li[0], li[1], li[2], li[3])\n",
    "p.bmi()\n"
   ]
  },
  {
   "cell_type": "code",
   "execution_count": null,
   "metadata": {},
   "outputs": [],
   "source": [
    "#042,s4-2\n",
    "class Point:"
   ]
  }
 ],
 "metadata": {
  "interpreter": {
   "hash": "22a32f74c5cbc7599371b4cefea49d57da2dd14ce40b10f87a18ec4d4263aaab"
  },
  "kernelspec": {
   "display_name": "Python 3.9.7 64-bit ('py39_class': conda)",
   "name": "python3"
  },
  "language_info": {
   "codemirror_mode": {
    "name": "ipython",
    "version": 3
   },
   "file_extension": ".py",
   "mimetype": "text/x-python",
   "name": "python",
   "nbconvert_exporter": "python",
   "pygments_lexer": "ipython3",
   "version": "3.9.7"
  },
  "orig_nbformat": 4
 },
 "nbformat": 4,
 "nbformat_minor": 2
}
