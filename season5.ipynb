{
 "cells": [
  {
   "cell_type": "code",
   "execution_count": 12,
   "metadata": {},
   "outputs": [
    {
     "name": "stdout",
     "output_type": "stream",
     "text": [
      "60\n"
     ]
    }
   ],
   "source": [
    "# 040,s5-1\n",
    "import decimal\n",
    "class Person:\n",
    "    def __init__(self, name, weight, height, gender):\n",
    "        self.name = str(name)\n",
    "        self.weight = decimal.Decimal(weight)\n",
    "        self.height = decimal.Decimal(height)\n",
    "        self.gender = gender\n",
    "\n",
    "    def bmi(self):\n",
    "        if(\"male\" == self.gender):\n",
    "            print(int((self.height-decimal.Decimal('80'))*decimal.Decimal('0.7')))\n",
    "        else:\n",
    "            print(int((self.height-decimal.Decimal('70'))*decimal.Decimal('0.6')))\n",
    "\n",
    "\n",
    "li = list(input().split(' '))\n",
    "p = Person(li[0], li[1], li[2], li[3])\n",
    "p.bmi()\n"
   ]
  },
  {
   "cell_type": "code",
   "execution_count": 19,
   "metadata": {},
   "outputs": [
    {
     "name": "stdout",
     "output_type": "stream",
     "text": [
      "1 1\n",
      "1\n"
     ]
    }
   ],
   "source": [
    "# 042,s5-2\n",
    "class Point:\n",
    "    def __init__(self, x, y):\n",
    "        self.x = x\n",
    "        self.y = y\n",
    "\n",
    "\n",
    "class Circle(Point):\n",
    "    def __init__(self, x, y, r):\n",
    "        super(Circle, self).__init__(x, y)\n",
    "        self.r = r\n",
    "\n",
    "    def inCircle(self, point: Point):\n",
    "        if (point.x-self.x)**2+(point.y-self.y)**2 <= self.r**2:\n",
    "            print(1)\n",
    "        else:\n",
    "            print(-1)\n",
    "\n",
    "\n",
    "px, py, cx, cy, r = map(int, input().split(' '))\n",
    "p = Point(px, py)\n",
    "c = Circle(cx, cy, r)\n",
    "c.inCircle(p)\n"
   ]
  },
  {
   "cell_type": "code",
   "execution_count": 20,
   "metadata": {},
   "outputs": [
    {
     "name": "stdout",
     "output_type": "stream",
     "text": [
      "150\n"
     ]
    }
   ],
   "source": [
    "# 043,s5-3\n",
    "# s1-2\n",
    "a, c, b = input().split(' ')\n",
    "a = int(a)\n",
    "b = int(b)\n",
    "try:\n",
    "    if ('+' == c):\n",
    "        d = a+b\n",
    "    elif ('-' == c):\n",
    "        d = a-b\n",
    "    elif ('*' == c):\n",
    "        d = a*b\n",
    "    elif ('/' == c):\n",
    "        d = a//b\n",
    "    else:\n",
    "        d = False\n",
    "except:\n",
    "    print(\"ERROR\")\n",
    "else:\n",
    "    if (d == False):\n",
    "        print(\"ERROR\")\n",
    "    else:\n",
    "        print(d)\n"
   ]
  },
  {
   "cell_type": "code",
   "execution_count": 109,
   "metadata": {},
   "outputs": [
    {
     "name": "stdout",
     "output_type": "stream",
     "text": [
      "2 \n"
     ]
    }
   ],
   "source": [
    "# 044,s5-4\n",
    "class Stack:\n",
    "    def __init__(self):\n",
    "        self.stack = []\n",
    "\n",
    "    def push(self, n):\n",
    "        self.stack.append(n)\n",
    "\n",
    "    def pop(self):\n",
    "        if not self.stack:\n",
    "            return\n",
    "        self.stack.pop()\n",
    "\n",
    "    def out(self):\n",
    "        print(*self.stack)\n",
    "\n",
    "\n",
    "s = Stack()\n",
    "while(1):\n",
    "    # li = input()  #这样是如果只有最后一行有空格\n",
    "    try:\n",
    "        li = input()  # 现在是每一次的2后面都有空格，然后以eof为截止符\n",
    "    except:\n",
    "        break\n",
    "    if '1' == li[0]:\n",
    "        s.push(int(li[2:]))\n",
    "    else:\n",
    "        s.pop()\n",
    "    # if li[-1] == ' ': #这样是如果只有最后一行有空格\n",
    "    #     break         #这样是如果只有最后一行有空格\n",
    "s.out()\n"
   ]
  },
  {
   "cell_type": "code",
   "execution_count": 76,
   "metadata": {},
   "outputs": [
    {
     "name": "stdout",
     "output_type": "stream",
     "text": [
      "FDAJFKSJDOF123\n"
     ]
    }
   ],
   "source": [
    "# 045,s5-5\n",
    "s = input()\n",
    "print(s.upper())\n"
   ]
  },
  {
   "cell_type": "code",
   "execution_count": 89,
   "metadata": {},
   "outputs": [
    {
     "name": "stdout",
     "output_type": "stream",
     "text": [
      "2\n"
     ]
    }
   ],
   "source": [
    "# 046,s5-6\n",
    "class UnionFindSet:\n",
    "    def __init__(self, n):\n",
    "        self.father = list(range(n))\n",
    "\n",
    "    def find(self, x):\n",
    "        root = x\n",
    "        while self.father[root] != root:\n",
    "            root = self.father[root]\n",
    "\n",
    "        while x != root:\n",
    "            original_father = self.father[x]\n",
    "            self.father[x] = root\n",
    "            x = original_father\n",
    "\n",
    "        return root\n",
    "\n",
    "    def union(self, x, y):\n",
    "        root_x, root_y = self.find(x), self.find(y)\n",
    "        if root_x != root_y:\n",
    "            self.father[root_x] = root_y\n",
    "\n",
    "    def count(self):\n",
    "        # print(self.father)\n",
    "        c = 0\n",
    "        for i in range(len(self.father)):\n",
    "            if i == self.find(self.father[i]):\n",
    "                c += 1\n",
    "        print(c)\n",
    "\n",
    "\n",
    "n = int(input())\n",
    "m = int(input())\n",
    "py = UnionFindSet(n)\n",
    "for i in range(m):\n",
    "    x, y = map(int, input().split(' '))\n",
    "    py.union(x, y)\n",
    "py.count()\n"
   ]
  },
  {
   "cell_type": "code",
   "execution_count": 110,
   "metadata": {},
   "outputs": [
    {
     "name": "stdout",
     "output_type": "stream",
     "text": [
      "2\n"
     ]
    }
   ],
   "source": [
    "# 047,s5-7\n",
    "# 计算重叠面积，即计算两个矩形在xy轴上面的投影重叠长度。\n",
    "ax1, ay1, ax2, ay2 = map(int, input().split(' '))\n",
    "bx1, by1, bx2, by2 = map(int, input().split(' '))\n",
    "overlap_width = min(ax2, bx2)-max(ax1, bx1)\n",
    "overlap_height = min(ay1, by1)-max(ay2, by2)\n",
    "print(overlap_width*overlap_height)\n"
   ]
  },
  {
   "cell_type": "code",
   "execution_count": 111,
   "metadata": {},
   "outputs": [
    {
     "name": "stdout",
     "output_type": "stream",
     "text": [
      "3628800\n"
     ]
    }
   ],
   "source": [
    "# 048,s5-8\n",
    "class BigInt:\n",
    "    def __init__(self, n):\n",
    "        self.n = n\n",
    "\n",
    "    def factorial(self):\n",
    "        import math\n",
    "        print(str(math.factorial(self.n)))\n",
    "        return\n",
    "\n",
    "\n",
    "b = BigInt(int(input()))\n",
    "b.factorial()"
   ]
  },
  {
   "cell_type": "code",
   "execution_count": 114,
   "metadata": {},
   "outputs": [
    {
     "name": "stdout",
     "output_type": "stream",
     "text": [
      "5\n"
     ]
    }
   ],
   "source": [
    "# 049,s5-9\n",
    "class Person:\n",
    "    count = 0\n",
    "\n",
    "    def __init__(self):\n",
    "        Person.count += 1\n",
    "\n",
    "\n",
    "for i in range(5):\n",
    "    Person()\n",
    "\n",
    "print(Person.count)\n"
   ]
  },
  {
   "cell_type": "code",
   "execution_count": 131,
   "metadata": {},
   "outputs": [
    {
     "name": "stdout",
     "output_type": "stream",
     "text": [
      "1\n"
     ]
    }
   ],
   "source": [
    "# 050,s5-10\n",
    "import datetime\n",
    "y1, m1, d1 = map(int, input().split(' '))\n",
    "y2, m2, d2 = map(int, input().split(' '))\n",
    "d1 = datetime.datetime(y1, m1, d1)\n",
    "d2 = datetime.datetime(y2, m2, d2)\n",
    "print((d2-d1).days)\n"
   ]
  }
 ],
 "metadata": {
  "interpreter": {
   "hash": "22a32f74c5cbc7599371b4cefea49d57da2dd14ce40b10f87a18ec4d4263aaab"
  },
  "kernelspec": {
   "display_name": "Python 3.9.7 64-bit ('py39_class': conda)",
   "name": "python3"
  },
  "language_info": {
   "codemirror_mode": {
    "name": "ipython",
    "version": 3
   },
   "file_extension": ".py",
   "mimetype": "text/x-python",
   "name": "python",
   "nbconvert_exporter": "python",
   "pygments_lexer": "ipython3",
   "version": "3.9.7"
  },
  "orig_nbformat": 4
 },
 "nbformat": 4,
 "nbformat_minor": 2
}
