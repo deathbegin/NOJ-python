{
 "cells": [
  {
   "cell_type": "code",
   "execution_count": 5,
   "metadata": {},
   "outputs": [
    {
     "name": "stdout",
     "output_type": "stream",
     "text": [
      "5\n"
     ]
    }
   ],
   "source": [
    "# 021,s3-1\n",
    "li = list(map(int, input().split(\" \")))\n",
    "if(len(li) < 3):\n",
    "    print(0)\n",
    "else:\n",
    "    maxl = 0\n",
    "    l = 1\n",
    "    for i in range(len(li)-1):\n",
    "        if(li[i] < li[i+1]):\n",
    "            l += 1\n",
    "        elif(li[i] > li[i+1]):\n",
    "            for j in range(i+1, len(li)):\n",
    "                if(li[j] < li[j-1]):\n",
    "                    l += 1\n",
    "                else:\n",
    "                    maxl = max(l, maxl)\n",
    "                    i = j-1\n",
    "                    l = 1\n",
    "                    break\n",
    "        else:\n",
    "            l = 0\n",
    "    print(maxl)\n"
   ]
  },
  {
   "cell_type": "code",
   "execution_count": 6,
   "metadata": {},
   "outputs": [
    {
     "name": "stdout",
     "output_type": "stream",
     "text": [
      "8\n"
     ]
    }
   ],
   "source": [
    "# 022,s3-2\n",
    "li = list(map(int, input().split(\" \")))\n",
    "ml = li[0]\n",
    "m = 0\n",
    "for i in range(2, len(li)):\n",
    "    m = max(m, ml+li[i])\n",
    "    ml = max(ml, li[i-1])\n",
    "print(m)\n"
   ]
  },
  {
   "cell_type": "code",
   "execution_count": 23,
   "metadata": {},
   "outputs": [
    {
     "name": "stdout",
     "output_type": "stream",
     "text": [
      "3.0000\n"
     ]
    }
   ],
   "source": [
    "# 023,s3-3\n",
    "import math\n",
    "n = int(input())\n",
    "x = math.sqrt(n)\n",
    "t = x**2-n\n",
    "step = 0\n",
    "while step <= 1000 and t != n:\n",
    "    x = x - t/(2*x)\n",
    "    t = round(x**2 - n)\n",
    "    step += 1\n",
    "print(\"%.4f\" % (x-5e-5))\n"
   ]
  },
  {
   "cell_type": "code",
   "execution_count": 28,
   "metadata": {},
   "outputs": [
    {
     "name": "stdout",
     "output_type": "stream",
     "text": [
      "142\n"
     ]
    }
   ],
   "source": [
    "# 024,s3-4\n",
    "res = 0\n",
    "for x in range(1, 10):\n",
    "    for y in range(1, 10):\n",
    "        if y == x:\n",
    "            continue\n",
    "        for z in range(1, 10):\n",
    "            if z == y or z == x:\n",
    "                continue\n",
    "            for m in range(1, 10):\n",
    "                if m == x or m == y or m == z:\n",
    "                    continue\n",
    "                for n in range(1, 10):\n",
    "                    if n == x or n == y or n == z or n == m:\n",
    "                        continue\n",
    "                    if (x*10+y)*(z*100+m*10+n) == (x*100+y+m*10)*(z*10+n):\n",
    "                        res += 1\n",
    "print(res)\n"
   ]
  },
  {
   "cell_type": "code",
   "execution_count": 36,
   "metadata": {},
   "outputs": [
    {
     "name": "stdout",
     "output_type": "stream",
     "text": [
      "5\n"
     ]
    }
   ],
   "source": [
    "# 025,s3-5\n",
    "n = int(input())\n",
    "if (n <= 2):\n",
    "    print(n)\n",
    "else:\n",
    "    res = [0]*(n+1)\n",
    "    res[1] = 1\n",
    "    res[2] = 2\n",
    "    for i in range(3, n+1):\n",
    "        res[i] = res[i-2]+res[i-1]\n",
    "    print(res[n])\n"
   ]
  },
  {
   "cell_type": "code",
   "execution_count": 43,
   "metadata": {},
   "outputs": [
    {
     "name": "stdout",
     "output_type": "stream",
     "text": [
      "3 6 9\n",
      "2 5 8\n",
      "1 4 7\n"
     ]
    }
   ],
   "source": [
    "# 026,s3-6\n",
    "n = int(input())\n",
    "m = []\n",
    "for i in range(n):\n",
    "    li = list(map(int, input().split(' ')))\n",
    "    m.append(li)\n",
    "    for j in range(n//2):\n",
    "        m[i][n-j-1], m[i][j] = m[i][j], m[i][n-j-1]   # 读入先左右垂直翻转一次\n",
    "\n",
    "for i in range(n):  # 再对角线翻转\n",
    "    for j in range(i):\n",
    "        m[i][j], m[j][i] = m[j][i], m[i][j]\n",
    "\n",
    "for i in range(n):\n",
    "    print(' '.join([str(x) for x in m[i]]))\n"
   ]
  },
  {
   "cell_type": "code",
   "execution_count": 44,
   "metadata": {},
   "outputs": [
    {
     "name": "stdout",
     "output_type": "stream",
     "text": [
      "4\n"
     ]
    }
   ],
   "source": [
    "# 027,s3-7\n",
    "li = list(map(int, input().split(\" \")))\n",
    "a, b, c = map(int, input().split(\" \"))\n",
    "g = 0\n",
    "for i in range(len(li)):\n",
    "    for j in range(i+1, len(li)):\n",
    "        for k in range(j+1, len(li)):\n",
    "            if (abs(li[i]-li[j]) <= a and\n",
    "                abs(li[j]-li[k]) <= b and\n",
    "                    abs(li[i]-li[k]) <= c):\n",
    "                g += 1\n",
    "print(g)\n"
   ]
  },
  {
   "cell_type": "code",
   "execution_count": 45,
   "metadata": {},
   "outputs": [
    {
     "name": "stdout",
     "output_type": "stream",
     "text": [
      "3167\n"
     ]
    }
   ],
   "source": [
    "# 028,s3-8\n",
    "def is_prime(x):\n",
    "    for i in range(2, int(x ** 0.5) + 1):\n",
    "        if x % i == 0:\n",
    "            return False\n",
    "    return True\n",
    "\n",
    "\n",
    "res = 0\n",
    "for i in range(100, 201):\n",
    "    if is_prime(i):\n",
    "        res += i\n",
    "print(res)\n"
   ]
  },
  {
   "cell_type": "code",
   "execution_count": 23,
   "metadata": {},
   "outputs": [
    {
     "name": "stdout",
     "output_type": "stream",
     "text": [
      "1237\n"
     ]
    }
   ],
   "source": [
    "# 029,s3-9\n",
    "n = int(input())\n",
    "t = 0\n",
    "for i in range(1, n+1):\n",
    "    t *= 10\n",
    "    t += i\n",
    "# print(t)\n",
    "print(t+(n-1))\n",
    "\n",
    "\n",
    "# #029,s3-9\n",
    "# n = int(input())\n",
    "# res = 1+2*(n-1) + sum(10**t*(n-t) for t in range(1, n))\n",
    "# print(res)"
   ]
  },
  {
   "cell_type": "code",
   "execution_count": 3,
   "metadata": {},
   "outputs": [
    {
     "name": "stdout",
     "output_type": "stream",
     "text": [
      "6 3 7\n"
     ]
    }
   ],
   "source": [
    "# 030,s3-10\n",
    "s = input()\n",
    "u = l = n = 0\n",
    "\n",
    "for x in s:\n",
    "    if(x >= 'A' and x <= 'Z'):\n",
    "        u += 1\n",
    "    elif(x >= 'a' and x <= 'z'):\n",
    "        l += 1\n",
    "    elif(x >= '0' and x <= '9'):\n",
    "        n += 1\n",
    "print('{} {} {}'.format(u, l, n))\n"
   ]
  }
 ],
 "metadata": {
  "interpreter": {
   "hash": "22a32f74c5cbc7599371b4cefea49d57da2dd14ce40b10f87a18ec4d4263aaab"
  },
  "kernelspec": {
   "display_name": "Python 3.9.7 64-bit ('py39_class': conda)",
   "name": "python3"
  },
  "language_info": {
   "codemirror_mode": {
    "name": "ipython",
    "version": 3
   },
   "file_extension": ".py",
   "mimetype": "text/x-python",
   "name": "python",
   "nbconvert_exporter": "python",
   "pygments_lexer": "ipython3",
   "version": "3.9.7"
  },
  "orig_nbformat": 4
 },
 "nbformat": 4,
 "nbformat_minor": 2
}
