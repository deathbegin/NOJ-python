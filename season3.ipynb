{
 "cells": [
  {
   "cell_type": "code",
   "execution_count": null,
   "metadata": {},
   "outputs": [],
   "source": [
    "print(\"shabi\")"
   ]
  }
 ],
 "metadata": {
  "interpreter": {
   "hash": "22a32f74c5cbc7599371b4cefea49d57da2dd14ce40b10f87a18ec4d4263aaab"
  },
  "kernelspec": {
   "display_name": "Python 3.9.7 64-bit ('py39_class': conda)",
   "name": "python3"
  },
  "language_info": {
   "name": "python",
   "version": "3.9.7"
  },
  "orig_nbformat": 4
 },
 "nbformat": 4,
 "nbformat_minor": 2
}
