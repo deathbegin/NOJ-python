{
 "cells": [
  {
   "cell_type": "code",
   "execution_count": 14,
   "metadata": {},
   "outputs": [
    {
     "name": "stdout",
     "output_type": "stream",
     "text": [
      "   0  1  2\n",
      "0  1  2  3\n"
     ]
    }
   ],
   "source": [
    "#T071, s8-1\n",
    "import pandas as pd\n",
    "\n",
    "n = int(input())\n",
    "c = list(input().split())\n",
    "\n",
    "for i in range(n):\n",
    "    t = [input().split()]\n",
    "    df = pd.DataFrame(t)\n",
    "    print(df)\n",
    "# print(c)\n",
    "# df=pd.DataFrame(c,index=index)\n",
    "# print(df)\n"
   ]
  },
  {
   "cell_type": "code",
   "execution_count": null,
   "metadata": {},
   "outputs": [],
   "source": [
    "#T072, s8-2"
   ]
  }
 ],
 "metadata": {
  "interpreter": {
   "hash": "8339f9580ae172ed9f707ad24542625b07173f56770480f92ff030a56c72dbdc"
  },
  "kernelspec": {
   "display_name": "Python 3.8.8 64-bit ('base': conda)",
   "language": "python",
   "name": "python3"
  },
  "language_info": {
   "codemirror_mode": {
    "name": "ipython",
    "version": 3
   },
   "file_extension": ".py",
   "mimetype": "text/x-python",
   "name": "python",
   "nbconvert_exporter": "python",
   "pygments_lexer": "ipython3",
   "version": "3.7.11"
  },
  "orig_nbformat": 4
 },
 "nbformat": 4,
 "nbformat_minor": 2
}
