{
 "cells": [
  {
   "cell_type": "code",
   "execution_count": 8,
   "metadata": {},
   "outputs": [
    {
     "ename": "KeyError",
     "evalue": "\"None of [Index(['E', 'M', 'P', 'C', 'H'], dtype='object')] are in the [columns]\"",
     "output_type": "error",
     "traceback": [
      "\u001b[1;31m---------------------------------------------------------------------------\u001b[0m",
      "\u001b[1;31mKeyError\u001b[0m                                  Traceback (most recent call last)",
      "\u001b[1;32m~\\AppData\\Local\\Temp/ipykernel_5508/983609970.py\u001b[0m in \u001b[0;36m<module>\u001b[1;34m\u001b[0m\n\u001b[0;32m     12\u001b[0m     \u001b[0mtable\u001b[0m\u001b[1;33m.\u001b[0m\u001b[0mappend\u001b[0m\u001b[1;33m(\u001b[0m\u001b[0mt\u001b[0m\u001b[1;33m)\u001b[0m\u001b[1;33m\u001b[0m\u001b[1;33m\u001b[0m\u001b[0m\n\u001b[0;32m     13\u001b[0m \u001b[0mdf\u001b[0m \u001b[1;33m=\u001b[0m \u001b[0mpd\u001b[0m\u001b[1;33m.\u001b[0m\u001b[0mDataFrame\u001b[0m\u001b[1;33m(\u001b[0m\u001b[0mtable\u001b[0m\u001b[1;33m)\u001b[0m\u001b[1;33m\u001b[0m\u001b[1;33m\u001b[0m\u001b[0m\n\u001b[1;32m---> 14\u001b[1;33m \u001b[0mdf\u001b[0m\u001b[1;33m[\u001b[0m\u001b[1;33m[\u001b[0m\u001b[0mi\u001b[0m \u001b[1;32mfor\u001b[0m \u001b[0mi\u001b[0m \u001b[1;32min\u001b[0m \u001b[0mrange\u001b[0m\u001b[1;33m(\u001b[0m\u001b[1;36m1\u001b[0m\u001b[1;33m,\u001b[0m \u001b[0mlen\u001b[0m\u001b[1;33m(\u001b[0m\u001b[0mc\u001b[0m\u001b[1;33m)\u001b[0m\u001b[1;33m)\u001b[0m\u001b[1;33m]\u001b[0m\u001b[1;33m]\u001b[0m \u001b[1;33m=\u001b[0m \u001b[0mdf\u001b[0m\u001b[1;33m[\u001b[0m\u001b[0mc\u001b[0m\u001b[1;33m]\u001b[0m\u001b[1;33m\u001b[0m\u001b[1;33m\u001b[0m\u001b[0m\n\u001b[0m\u001b[0;32m     15\u001b[0m \u001b[0mdf\u001b[0m \u001b[1;33m=\u001b[0m \u001b[0mdf\u001b[0m\u001b[1;33m.\u001b[0m\u001b[0mset_index\u001b[0m\u001b[1;33m(\u001b[0m\u001b[1;36m0\u001b[0m\u001b[1;33m)\u001b[0m\u001b[1;33m\u001b[0m\u001b[1;33m\u001b[0m\u001b[0m\n\u001b[0;32m     16\u001b[0m df[[c[i] for i in range(1, len(c))]] = df[[c[i]\n",
      "\u001b[1;32m~\\anaconda3\\envs\\py37\\lib\\site-packages\\pandas\\core\\frame.py\u001b[0m in \u001b[0;36m__getitem__\u001b[1;34m(self, key)\u001b[0m\n\u001b[0;32m   3462\u001b[0m             \u001b[1;32mif\u001b[0m \u001b[0mis_iterator\u001b[0m\u001b[1;33m(\u001b[0m\u001b[0mkey\u001b[0m\u001b[1;33m)\u001b[0m\u001b[1;33m:\u001b[0m\u001b[1;33m\u001b[0m\u001b[1;33m\u001b[0m\u001b[0m\n\u001b[0;32m   3463\u001b[0m                 \u001b[0mkey\u001b[0m \u001b[1;33m=\u001b[0m \u001b[0mlist\u001b[0m\u001b[1;33m(\u001b[0m\u001b[0mkey\u001b[0m\u001b[1;33m)\u001b[0m\u001b[1;33m\u001b[0m\u001b[1;33m\u001b[0m\u001b[0m\n\u001b[1;32m-> 3464\u001b[1;33m             \u001b[0mindexer\u001b[0m \u001b[1;33m=\u001b[0m \u001b[0mself\u001b[0m\u001b[1;33m.\u001b[0m\u001b[0mloc\u001b[0m\u001b[1;33m.\u001b[0m\u001b[0m_get_listlike_indexer\u001b[0m\u001b[1;33m(\u001b[0m\u001b[0mkey\u001b[0m\u001b[1;33m,\u001b[0m \u001b[0maxis\u001b[0m\u001b[1;33m=\u001b[0m\u001b[1;36m1\u001b[0m\u001b[1;33m)\u001b[0m\u001b[1;33m[\u001b[0m\u001b[1;36m1\u001b[0m\u001b[1;33m]\u001b[0m\u001b[1;33m\u001b[0m\u001b[1;33m\u001b[0m\u001b[0m\n\u001b[0m\u001b[0;32m   3465\u001b[0m \u001b[1;33m\u001b[0m\u001b[0m\n\u001b[0;32m   3466\u001b[0m         \u001b[1;31m# take() does not accept boolean indexers\u001b[0m\u001b[1;33m\u001b[0m\u001b[1;33m\u001b[0m\u001b[1;33m\u001b[0m\u001b[0m\n",
      "\u001b[1;32m~\\anaconda3\\envs\\py37\\lib\\site-packages\\pandas\\core\\indexing.py\u001b[0m in \u001b[0;36m_get_listlike_indexer\u001b[1;34m(self, key, axis)\u001b[0m\n\u001b[0;32m   1312\u001b[0m             \u001b[0mkeyarr\u001b[0m\u001b[1;33m,\u001b[0m \u001b[0mindexer\u001b[0m\u001b[1;33m,\u001b[0m \u001b[0mnew_indexer\u001b[0m \u001b[1;33m=\u001b[0m \u001b[0max\u001b[0m\u001b[1;33m.\u001b[0m\u001b[0m_reindex_non_unique\u001b[0m\u001b[1;33m(\u001b[0m\u001b[0mkeyarr\u001b[0m\u001b[1;33m)\u001b[0m\u001b[1;33m\u001b[0m\u001b[1;33m\u001b[0m\u001b[0m\n\u001b[0;32m   1313\u001b[0m \u001b[1;33m\u001b[0m\u001b[0m\n\u001b[1;32m-> 1314\u001b[1;33m         \u001b[0mself\u001b[0m\u001b[1;33m.\u001b[0m\u001b[0m_validate_read_indexer\u001b[0m\u001b[1;33m(\u001b[0m\u001b[0mkeyarr\u001b[0m\u001b[1;33m,\u001b[0m \u001b[0mindexer\u001b[0m\u001b[1;33m,\u001b[0m \u001b[0maxis\u001b[0m\u001b[1;33m)\u001b[0m\u001b[1;33m\u001b[0m\u001b[1;33m\u001b[0m\u001b[0m\n\u001b[0m\u001b[0;32m   1315\u001b[0m \u001b[1;33m\u001b[0m\u001b[0m\n\u001b[0;32m   1316\u001b[0m         if needs_i8_conversion(ax.dtype) or isinstance(\n",
      "\u001b[1;32m~\\anaconda3\\envs\\py37\\lib\\site-packages\\pandas\\core\\indexing.py\u001b[0m in \u001b[0;36m_validate_read_indexer\u001b[1;34m(self, key, indexer, axis)\u001b[0m\n\u001b[0;32m   1372\u001b[0m                 \u001b[1;32mif\u001b[0m \u001b[0muse_interval_msg\u001b[0m\u001b[1;33m:\u001b[0m\u001b[1;33m\u001b[0m\u001b[1;33m\u001b[0m\u001b[0m\n\u001b[0;32m   1373\u001b[0m                     \u001b[0mkey\u001b[0m \u001b[1;33m=\u001b[0m \u001b[0mlist\u001b[0m\u001b[1;33m(\u001b[0m\u001b[0mkey\u001b[0m\u001b[1;33m)\u001b[0m\u001b[1;33m\u001b[0m\u001b[1;33m\u001b[0m\u001b[0m\n\u001b[1;32m-> 1374\u001b[1;33m                 \u001b[1;32mraise\u001b[0m \u001b[0mKeyError\u001b[0m\u001b[1;33m(\u001b[0m\u001b[1;34mf\"None of [{key}] are in the [{axis_name}]\"\u001b[0m\u001b[1;33m)\u001b[0m\u001b[1;33m\u001b[0m\u001b[1;33m\u001b[0m\u001b[0m\n\u001b[0m\u001b[0;32m   1375\u001b[0m \u001b[1;33m\u001b[0m\u001b[0m\n\u001b[0;32m   1376\u001b[0m             \u001b[0mnot_found\u001b[0m \u001b[1;33m=\u001b[0m \u001b[0mlist\u001b[0m\u001b[1;33m(\u001b[0m\u001b[0mensure_index\u001b[0m\u001b[1;33m(\u001b[0m\u001b[0mkey\u001b[0m\u001b[1;33m)\u001b[0m\u001b[1;33m[\u001b[0m\u001b[0mmissing_mask\u001b[0m\u001b[1;33m.\u001b[0m\u001b[0mnonzero\u001b[0m\u001b[1;33m(\u001b[0m\u001b[1;33m)\u001b[0m\u001b[1;33m[\u001b[0m\u001b[1;36m0\u001b[0m\u001b[1;33m]\u001b[0m\u001b[1;33m]\u001b[0m\u001b[1;33m.\u001b[0m\u001b[0munique\u001b[0m\u001b[1;33m(\u001b[0m\u001b[1;33m)\u001b[0m\u001b[1;33m)\u001b[0m\u001b[1;33m\u001b[0m\u001b[1;33m\u001b[0m\u001b[0m\n",
      "\u001b[1;31mKeyError\u001b[0m: \"None of [Index(['E', 'M', 'P', 'C', 'H'], dtype='object')] are in the [columns]\""
     ]
    }
   ],
   "source": [
    "#T071, s8-1\n",
    "import pandas as pd\n",
    "import numpy as np\n",
    "\n",
    "n = int(input())\n",
    "c = list(input().split())\n",
    "c.insert(0, '')\n",
    "# print(c)\n",
    "\n",
    "table = []\n",
    "for i in range(n):\n",
    "    t = list(input().split())\n",
    "    table.append(t)\n",
    "df = pd.DataFrame(table, columns=c)\n",
    "df = df.set_index('')\n",
    "df[[c[i] for i in range(1, len(c))]] = df[[c[i]\n",
    "                                           for i in range(1, len(c))]].astype(int)\n",
    "print(df)\n",
    "# df_s = df.sum(axis=1)\n",
    "# df['Mean'] = df.mean(axis=1)\n",
    "# df.insert(df.shape[1], 'Sum', df_s)\n",
    "df['Mean'] = df.mean(axis=1)\n",
    "df[\"Sum\"] = df.sum(axis=1)\n",
    "print(df)"
   ]
  },
  {
   "cell_type": "code",
   "execution_count": 2,
   "metadata": {},
   "outputs": [
    {
     "name": "stdout",
     "output_type": "stream",
     "text": [
      "0    False\n",
      "1    False\n",
      "2     True\n",
      "3     True\n",
      "4     True\n",
      "5    False\n",
      "dtype: bool\n",
      "          A         B\n",
      "0  0.666667  1.166667\n",
      "1  1.666667  3.166667\n",
      "2  2.416667  2.666667\n",
      "3  3.166667  2.166667\n",
      "4  3.916667  2.166667\n",
      "5  4.666667  2.166667\n"
     ]
    }
   ],
   "source": [
    "#T072, s8-2\n",
    "import pandas as pd\n",
    "import numpy as np\n",
    "n = int(input())\n",
    "table = []\n",
    "for i in range(n):\n",
    "    t = list(map(int, input().split()))\n",
    "    table.append(t)\n",
    "# print(table)\n",
    "\n",
    "df = pd.DataFrame(table, columns=['A', 'B'])\n",
    "df = df.sub(df.mean(0), axis=1)\n",
    "df[df < 0] = np.nan\n",
    "print(df.isna().T.any())\n",
    "df = df.interpolate(axis=0)\n",
    "print(df)\n"
   ]
  },
  {
   "cell_type": "code",
   "execution_count": 1,
   "metadata": {},
   "outputs": [
    {
     "name": "stdout",
     "output_type": "stream",
     "text": [
      "   Num1  Num2     Op\n",
      "0     1     2   plus\n",
      "1     2     3  power\n",
      "2     5     9  minus\n",
      "   Num1  Num2     Op  result\n",
      "0     1     2   plus     3.0\n",
      "1     2     3  power     8.0\n",
      "2     5     9  minus    -4.0\n"
     ]
    }
   ],
   "source": [
    "#T073, s8-3\n",
    "import pandas as pd\n",
    "\n",
    "\n",
    "def Op(x, y, op):\n",
    "    if(\"plus\" == op):\n",
    "        return (x+y)\n",
    "    elif(\"power\" == op):\n",
    "        return x**y\n",
    "    elif(\"minus\" == op):\n",
    "        return x-y\n",
    "    elif(\"divide\" == op):\n",
    "        if(0 == y):\n",
    "            return \"ERROR\"\n",
    "        return x/y\n",
    "    elif(\"mutiply\" == op):\n",
    "        return x*y\n",
    "\n",
    "\n",
    "n = int(input())\n",
    "table = []\n",
    "for i in range(n):\n",
    "    t = list(input().split())\n",
    "    table.append(t)\n",
    "# print(table)\n",
    "\n",
    "df = pd.DataFrame(table, columns=['Num1', 'Num2', 'Op'])\n",
    "df[['Num1', 'Num2']] = df[['Num1', 'Num2']].astype(int)\n",
    "print(df)\n",
    "\n",
    "df[\"result\"] = df.apply(lambda x: Op(\n",
    "    x['Num1'], x['Num2'], x['Op']), axis=1).astype(float)\n",
    "print(df)\n"
   ]
  },
  {
   "cell_type": "code",
   "execution_count": 4,
   "metadata": {},
   "outputs": [
    {
     "name": "stdout",
     "output_type": "stream",
     "text": [
      "       Name     Sex Age\n",
      "0  ZhangSan    male  15\n",
      "1    WangWu  female  26\n",
      "2      LiSi    male  16\n",
      "       Name Weight Height\n",
      "0    WangWu     75    150\n",
      "1  ZhangSan    150     75\n",
      "       Name     Sex Age  Weight  Height\n",
      "0  ZhangSan    male  15   150.0    75.0\n",
      "1    WangWu  female  26    75.0   150.0\n",
      "2      LiSi    male  16     NaN     NaN\n"
     ]
    }
   ],
   "source": [
    "#T074, s8-4\n",
    "import pandas as pd\n",
    "\n",
    "n = int(input())\n",
    "table = []\n",
    "for i in range(n):\n",
    "    t = list(input().split())\n",
    "    table.append(t)\n",
    "df1 = pd.DataFrame(table, columns=[\"Name\", \"Sex\", \"Age\"])\n",
    "\n",
    "m = int(input())\n",
    "table = []\n",
    "for i in range(m):\n",
    "    t = list(input().split())\n",
    "    table.append(t)\n",
    "df2 = pd.DataFrame(table, columns=[\"Name\", \"Weight\", \"Height\"])\n",
    "print(df1)\n",
    "print(df2)\n",
    "\n",
    "result = pd.merge(df1, df2, on=[\"Name\"], how=\"outer\")\n",
    "result[[\"Weight\", \"Height\"]] = result[[\"Weight\", \"Height\"]].astype(float)\n",
    "print(result)\n"
   ]
  }
 ],
 "metadata": {
  "interpreter": {
   "hash": "8339f9580ae172ed9f707ad24542625b07173f56770480f92ff030a56c72dbdc"
  },
  "kernelspec": {
   "display_name": "Python 3.8.8 64-bit ('base': conda)",
   "language": "python",
   "name": "python3"
  },
  "language_info": {
   "codemirror_mode": {
    "name": "ipython",
    "version": 3
   },
   "file_extension": ".py",
   "mimetype": "text/x-python",
   "name": "python",
   "nbconvert_exporter": "python",
   "pygments_lexer": "ipython3",
   "version": "3.7.11"
  },
  "orig_nbformat": 4
 },
 "nbformat": 4,
 "nbformat_minor": 2
}
