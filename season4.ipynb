{
 "cells": [
  {
   "cell_type": "code",
   "execution_count": 37,
   "metadata": {},
   "outputs": [
    {
     "name": "stdout",
     "output_type": "stream",
     "text": [
      "6\n"
     ]
    }
   ],
   "source": [
    "# 031,s4-1\n",
    "res = 0\n",
    "\n",
    "\n",
    "def my_sum(n):\n",
    "    global res\n",
    "    res += n\n",
    "    return n and my_sum(n-1)\n",
    "\n",
    "\n",
    "n = int(input())\n",
    "my_sum(n)\n",
    "print(res)\n"
   ]
  },
  {
   "cell_type": "code",
   "execution_count": 43,
   "metadata": {},
   "outputs": [
    {
     "name": "stdout",
     "output_type": "stream",
     "text": [
      "9\n",
      "27\n"
     ]
    }
   ],
   "source": [
    "# 032,s4-2\n",
    "def nth_power(exponent):\n",
    "    def exponent_of(base):\n",
    "        return base ** exponent\n",
    "    return exponent_of  # 返回值是 exponent_of 函数\n",
    "\n",
    "\n",
    "square = nth_power(2)  # 计算一个数的平方\n",
    "cube = nth_power(3)  # 计算一个数的立方\n",
    "\n",
    "n = int(input())\n",
    "print(square(n))  # 计算平方\n",
    "print(cube(n))  # 计算立方\n"
   ]
  },
  {
   "cell_type": "code",
   "execution_count": 50,
   "metadata": {},
   "outputs": [
    {
     "name": "stdout",
     "output_type": "stream",
     "text": [
      "5 4 6 3 7 2 8 1 9\n"
     ]
    }
   ],
   "source": [
    "# 033,s4-3\n",
    "n, x = map(int, input().split(' '))\n",
    "li = list(map(int, input().split(' ')))\n",
    "li.sort(key=lambda a: abs(a-x))\n",
    "print(\" \".join([str(num) for num in li]))\n"
   ]
  },
  {
   "cell_type": "code",
   "execution_count": 82,
   "metadata": {},
   "outputs": [
    {
     "name": "stdout",
     "output_type": "stream",
     "text": [
      "5 7 3\n"
     ]
    }
   ],
   "source": [
    "# 034,s4-4\n",
    "n, m = map(int, input().split(' '))\n",
    "get = [0]*n\n",
    "c = int(m/n)\n",
    "for i in range(c):\n",
    "    for j in range(n):\n",
    "        m -= i*n+j+1\n",
    "        if m < 0:\n",
    "            get[j] += m+i*n+j+1\n",
    "            break\n",
    "        get[j] += i*n+j+1\n",
    "    if m < 0:\n",
    "        break\n",
    "print(\" \".join(str(num) for num in get))\n"
   ]
  },
  {
   "cell_type": "code",
   "execution_count": 91,
   "metadata": {},
   "outputs": [
    {
     "name": "stdout",
     "output_type": "stream",
     "text": [
      "8\n"
     ]
    }
   ],
   "source": [
    "# 035,s4-5\n",
    "n = int(input())\n",
    "if (n <= 1):\n",
    "    print(n)\n",
    "else:\n",
    "    res = [0]*(n+1)\n",
    "    res[0] = 0\n",
    "    res[1] = 1\n",
    "    for i in range(2, n+1):\n",
    "        res[i] = res[i-2]+res[i-1]\n",
    "    print(res[n])"
   ]
  },
  {
   "cell_type": "code",
   "execution_count": 10,
   "metadata": {},
   "outputs": [
    {
     "name": "stdout",
     "output_type": "stream",
     "text": [
      "[1, 3]\n",
      "1 3\n"
     ]
    }
   ],
   "source": [
    "# 036,s4-6\n",
    "n = int(input())\n",
    "li = list(map(int, input().split(' ')))\n",
    "# print(li)\n",
    "intervals = []\n",
    "for i in range(n):\n",
    "    intervals.append([li[i*2], li[i*2+1]])\n",
    "# 将列表中的区间按照左端点升序排序\n",
    "intervals.sort()\n",
    "\n",
    "res = []\n",
    "for interval in intervals:\n",
    "    # 如果列表为空，或者当前区间与上一区间不重合，直接添加\n",
    "    if not res or res[-1][1] < interval[0]:\n",
    "        res.append(interval)\n",
    "    else:\n",
    "        # 否则的话，我们就可以与上一区间进行合并\n",
    "        res[-1][1] = max(res[-1][1], interval[1])\n",
    "\n",
    "print(' '.join(str(i) for interval in res for i in interval))"
   ]
  },
  {
   "cell_type": "code",
   "execution_count": 8,
   "metadata": {},
   "outputs": [
    {
     "name": "stdout",
     "output_type": "stream",
     "text": [
      "6\n"
     ]
    }
   ],
   "source": [
    "# 037,s4-7\n",
    "a = input()\n",
    "b = \"python\"\n",
    "slen1 = len(a)\n",
    "slen2 = len(b)\n",
    "tmp = 0\n",
    "if slen1*slen2 == 0:\n",
    "    print(slen1+slen2)\n",
    "else:\n",
    "    dp = list(range(slen2+1))  # 注意dp的长度是要+1的，这样就有错位\n",
    "    for i in range(slen1):\n",
    "        last = i\n",
    "        dp[0] = i+1\n",
    "        for j in range(slen2):\n",
    "            if a[i] == b[j]:\n",
    "                tmp = last  # 如果相等，那么就相当于a[i-1]变到b[j-1]的次数\n",
    "            else:\n",
    "                # 自己左边的已经被更新到dp[j]了，但是直接上方的还在dp[j+1]\n",
    "                tmp = 1+min(dp[j], dp[j+1], last)\n",
    "            last = dp[j+1]  # 记录当前自己上方的，也就是下一个左上角的\n",
    "            dp[j+1] = tmp\n",
    "    print(dp[-1])\n"
   ]
  },
  {
   "cell_type": "code",
   "execution_count": 23,
   "metadata": {},
   "outputs": [
    {
     "data": {
      "text/plain": [
       "5"
      ]
     },
     "execution_count": 23,
     "metadata": {},
     "output_type": "execute_result"
    }
   ],
   "source": [
    "# 038,s4-8\n",
    "def di():\n",
    "    x = 0\n",
    "\n",
    "    def da():\n",
    "        nonlocal x\n",
    "        x += 1\n",
    "        print(x)\n",
    "        # return x\n",
    "    return da\n",
    "\n",
    "\n",
    "dida = di()\n",
    "dida()\n",
    "dida()\n",
    "dida()\n",
    "dida()\n",
    "dida()\n"
   ]
  },
  {
   "cell_type": "code",
   "execution_count": 29,
   "metadata": {},
   "outputs": [
    {
     "name": "stdout",
     "output_type": "stream",
     "text": [
      "-1\n"
     ]
    }
   ],
   "source": [
    "# 039,s4-9\n",
    "li = list(map(int, input().split(' ')))\n",
    "tar = int(input())\n",
    "\n",
    "\n",
    "def m_find(arr, tar):\n",
    "    try:\n",
    "        print(arr.index(tar))\n",
    "    except:\n",
    "        print(-1)\n",
    "m_find(li, tar)"
   ]
  },
  {
   "cell_type": "code",
   "execution_count": 52,
   "metadata": {},
   "outputs": [
    {
     "name": "stdout",
     "output_type": "stream",
     "text": [
      "2\n"
     ]
    }
   ],
   "source": [
    "# 040,s4-10\n",
    "s = input()\n",
    "lenth = len(s)\n",
    "stack = []\n",
    "num = 0\n",
    "preOp = '+'\n",
    "\n",
    "for i in range(lenth):\n",
    "    if s[i] != ' ' and s[i].isdigit():\n",
    "        num = num*10 + ord(s[i])-ord('0')\n",
    "    if i == lenth-1 or s[i] in '+-*/':\n",
    "        if preOp == '+':\n",
    "            stack.append(num)\n",
    "        elif preOp == '-':\n",
    "            stack.append(-num)\n",
    "        elif preOp == '*':\n",
    "            stack.append(stack.pop() * num)\n",
    "        else:\n",
    "            stack.append(int(stack.pop() / num))\n",
    "        preOp = s[i]\n",
    "        # print(preOp)\n",
    "        num = 0\n",
    "print(sum(stack))\n"
   ]
  }
 ],
 "metadata": {
  "interpreter": {
   "hash": "22a32f74c5cbc7599371b4cefea49d57da2dd14ce40b10f87a18ec4d4263aaab"
  },
  "kernelspec": {
   "display_name": "Python 3.9.7 64-bit ('py39_class': conda)",
   "name": "python3"
  },
  "language_info": {
   "codemirror_mode": {
    "name": "ipython",
    "version": 3
   },
   "file_extension": ".py",
   "mimetype": "text/x-python",
   "name": "python",
   "nbconvert_exporter": "python",
   "pygments_lexer": "ipython3",
   "version": "3.9.7"
  },
  "orig_nbformat": 4
 },
 "nbformat": 4,
 "nbformat_minor": 2
}
