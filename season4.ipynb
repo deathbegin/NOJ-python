{
 "cells": [
  {
   "cell_type": "code",
   "execution_count": 37,
   "metadata": {},
   "outputs": [
    {
     "name": "stdout",
     "output_type": "stream",
     "text": [
      "6\n"
     ]
    }
   ],
   "source": [
    "# 031,s4-1\n",
    "res = 0\n",
    "\n",
    "\n",
    "def my_sum(n):\n",
    "    global res\n",
    "    res += n\n",
    "    return n and my_sum(n-1)\n",
    "\n",
    "\n",
    "n = int(input())\n",
    "my_sum(n)\n",
    "print(res)\n"
   ]
  },
  {
   "cell_type": "code",
   "execution_count": 43,
   "metadata": {},
   "outputs": [
    {
     "name": "stdout",
     "output_type": "stream",
     "text": [
      "9\n",
      "27\n"
     ]
    }
   ],
   "source": [
    "# 032,s4-2\n",
    "def nth_power(exponent):\n",
    "    def exponent_of(base):\n",
    "        return base ** exponent\n",
    "    return exponent_of  # 返回值是 exponent_of 函数\n",
    "\n",
    "\n",
    "square = nth_power(2)  # 计算一个数的平方\n",
    "cube = nth_power(3)  # 计算一个数的立方\n",
    "\n",
    "n = int(input())\n",
    "print(square(n))  # 计算平方\n",
    "print(cube(n))  # 计算立方\n"
   ]
  },
  {
   "cell_type": "code",
   "execution_count": 50,
   "metadata": {},
   "outputs": [
    {
     "name": "stdout",
     "output_type": "stream",
     "text": [
      "5 4 6 3 7 2 8 1 9\n"
     ]
    }
   ],
   "source": [
    "# 033,s4-3\n",
    "n, x = map(int, input().split(' '))\n",
    "li = list(map(int, input().split(' ')))\n",
    "li.sort(key=lambda a: abs(a-x))\n",
    "print(\" \".join([str(num) for num in li]))\n"
   ]
  },
  {
   "cell_type": "code",
   "execution_count": 82,
   "metadata": {},
   "outputs": [
    {
     "name": "stdout",
     "output_type": "stream",
     "text": [
      "5 7 3\n"
     ]
    }
   ],
   "source": [
    "# 034,s4-4\n",
    "n, m = map(int, input().split(' '))\n",
    "get = [0]*n\n",
    "c = int(m/n)\n",
    "for i in range(c):\n",
    "    for j in range(n):\n",
    "        m -= i*n+j+1\n",
    "        if m < 0:\n",
    "            get[j] += m+i*n+j+1\n",
    "            break\n",
    "        get[j] += i*n+j+1\n",
    "    if m < 0:\n",
    "        break\n",
    "print(\" \".join(str(num) for num in get))\n"
   ]
  },
  {
   "cell_type": "code",
   "execution_count": 91,
   "metadata": {},
   "outputs": [
    {
     "name": "stdout",
     "output_type": "stream",
     "text": [
      "8\n"
     ]
    }
   ],
   "source": [
    "# 035,s4-5\n",
    "n = int(input())\n",
    "if (n <= 1):\n",
    "    print(n)\n",
    "else:\n",
    "    res = [0]*(n+1)\n",
    "    res[0] = 0\n",
    "    res[1] = 1\n",
    "    for i in range(2, n+1):\n",
    "        res[i] = res[i-2]+res[i-1]\n",
    "    print(res[n])"
   ]
  },
  {
   "cell_type": "code",
   "execution_count": 94,
   "metadata": {},
   "outputs": [
    {
     "name": "stdout",
     "output_type": "stream",
     "text": [
      "[1, 3, 2, 6, 8, 10, 15, 18]\n",
      "[[1, 3], [2, 6], [8, 10], [15, 18]]\n"
     ]
    }
   ],
   "source": [
    "# 035,s4-6\n",
    "n = int(input())\n",
    "li = list(map(int, input().split(' ')))\n",
    "print(li)\n",
    "intervals = []\n",
    "for i in range(n):\n",
    "    intervals.append([li[i*2], li[i*2+1]])\n",
    "intervals.sort()\n"
   ]
  }
 ],
 "metadata": {
  "interpreter": {
   "hash": "22a32f74c5cbc7599371b4cefea49d57da2dd14ce40b10f87a18ec4d4263aaab"
  },
  "kernelspec": {
   "display_name": "Python 3.9.7 64-bit ('py39_class': conda)",
   "name": "python3"
  },
  "language_info": {
   "codemirror_mode": {
    "name": "ipython",
    "version": 3
   },
   "file_extension": ".py",
   "mimetype": "text/x-python",
   "name": "python",
   "nbconvert_exporter": "python",
   "pygments_lexer": "ipython3",
   "version": "3.9.7"
  },
  "orig_nbformat": 4
 },
 "nbformat": 4,
 "nbformat_minor": 2
}
