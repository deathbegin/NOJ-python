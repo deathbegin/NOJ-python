{
 "cells": [
  {
   "cell_type": "code",
   "execution_count": 37,
   "metadata": {},
   "outputs": [
    {
     "name": "stdout",
     "output_type": "stream",
     "text": [
      "6\n"
     ]
    }
   ],
   "source": [
    "# 031,s4-1\n",
    "res = 0\n",
    "\n",
    "\n",
    "def my_sum(n):\n",
    "    global res\n",
    "    res += n\n",
    "    return n and my_sum(n-1)\n",
    "\n",
    "\n",
    "n = int(input())\n",
    "my_sum(n)\n",
    "print(res)\n"
   ]
  },
  {
   "cell_type": "code",
   "execution_count": 43,
   "metadata": {},
   "outputs": [
    {
     "name": "stdout",
     "output_type": "stream",
     "text": [
      "9\n",
      "27\n"
     ]
    }
   ],
   "source": [
    "# 032,s4-2\n",
    "def nth_power(exponent):\n",
    "    def exponent_of(base):\n",
    "        return base ** exponent\n",
    "    return exponent_of  # 返回值是 exponent_of 函数\n",
    "\n",
    "\n",
    "square = nth_power(2)  # 计算一个数的平方\n",
    "cube = nth_power(3)  # 计算一个数的立方\n",
    "\n",
    "n = int(input())\n",
    "print(square(n))  # 计算平方\n",
    "print(cube(n))  # 计算立方\n"
   ]
  },
  {
   "cell_type": "code",
   "execution_count": null,
   "metadata": {},
   "outputs": [],
   "source": []
  },
  {
   "cell_type": "code",
   "execution_count": null,
   "metadata": {},
   "outputs": [],
   "source": []
  }
 ],
 "metadata": {
  "interpreter": {
   "hash": "22a32f74c5cbc7599371b4cefea49d57da2dd14ce40b10f87a18ec4d4263aaab"
  },
  "kernelspec": {
   "display_name": "Python 3.9.7 64-bit ('py39_class': conda)",
   "name": "python3"
  },
  "language_info": {
   "codemirror_mode": {
    "name": "ipython",
    "version": 3
   },
   "file_extension": ".py",
   "mimetype": "text/x-python",
   "name": "python",
   "nbconvert_exporter": "python",
   "pygments_lexer": "ipython3",
   "version": "3.9.7"
  },
  "orig_nbformat": 4
 },
 "nbformat": 4,
 "nbformat_minor": 2
}
