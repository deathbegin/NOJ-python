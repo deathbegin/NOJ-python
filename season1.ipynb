{
 "cells": [
  {
   "cell_type": "markdown",
   "metadata": {},
   "source": [
    "整数运算\n",
    "输入两个整数A、B以及一个运算符（包括加,减,乘,除,整除,取余,幂），输出计算等式。如果是非法计算，输出ERROR。\n",
    "输入为三行，分别对应A，B和运算符。\n",
    "输出为一行，为运算表达式。"
   ]
  },
  {
   "cell_type": "code",
   "execution_count": null,
   "metadata": {},
   "outputs": [],
   "source": [
    "# s1-2\n",
    "a = int(input())\n",
    "b = int(input())\n",
    "c = input()\n",
    "try:\n",
    "    if ('+' == c):\n",
    "        d = a+b\n",
    "    elif ('-' == c):\n",
    "        d = a-b\n",
    "    elif ('*' == c):\n",
    "        d = a*b\n",
    "    elif ('/' == c):\n",
    "        d = a/b\n",
    "    elif ('//' == c):\n",
    "        d = a//b\n",
    "    elif ('%' == c):\n",
    "        d = a % b\n",
    "    elif ('**' == c):\n",
    "        d = a**b\n",
    "    else:\n",
    "        d = False\n",
    "except:\n",
    "    print(\"ERROR\")\n",
    "else:\n",
    "    if (d == False):\n",
    "        print(\"ERROR\")\n",
    "    else:\n",
    "        print('{}{}{}{}{}'.format(a, c, b, \"=\", d))"
   ]
  },
  {
   "cell_type": "markdown",
   "metadata": {},
   "source": [
    "动态宽度\n",
    "输入正整数m和n，输出n位长的m的二进制，若n超出实际长度，则左边填0。若n小于等于实际长度，则按实际长度进行输出。"
   ]
  },
  {
   "cell_type": "code",
   "execution_count": null,
   "metadata": {},
   "outputs": [],
   "source": [
    "# s1-3\n",
    "m = int(input())\n",
    "n = int(input())\n",
    "m = bin(m)[2:].zfill(n)\n",
    "print(m)"
   ]
  },
  {
   "cell_type": "code",
   "execution_count": null,
   "metadata": {},
   "outputs": [],
   "source": [
    "# s1-4 \n",
    "# 二进制，八进制和十六进制\n",
    "num = []\n",
    "num.append(int(input(), 2))\n",
    "num.append(int(input(), 8))\n",
    "num.append(int(input()))\n",
    "num.append(int(input(), 16))\n",
    "res = max(num)\n",
    "print('{},{},{},{}'.format(bin(res), oct(res), res, hex(res)))"
   ]
  },
  {
   "cell_type": "code",
   "execution_count": null,
   "metadata": {},
   "outputs": [],
   "source": [
    "# s1-5\n",
    "# 回文数\n",
    "n = int(input())\n",
    "res = []\n",
    "for i in range(n):\n",
    "    m = input()\n",
    "    if str(m) == str(m)[::-1]:\n",
    "        res.append(True)\n",
    "    else:\n",
    "        res.append(False)\n",
    "print(','.join(str(i) for i in res))"
   ]
  },
  {
   "cell_type": "code",
   "execution_count": null,
   "metadata": {},
   "outputs": [],
   "source": [
    "# s1-6\n",
    "# 加密\n",
    "x1 = int(input())\n",
    "x2 = int(input())\n",
    "x3 = int(input())\n",
    "t = '{:04}'.format((x1+x2) % x3)\n",
    "res = t[::-1]\n",
    "print(res)"
   ]
  },
  {
   "cell_type": "code",
   "execution_count": null,
   "metadata": {
    "scrolled": true
   },
   "outputs": [],
   "source": [
    "# s1-7\n",
    "# 字符串处理\n",
    "n = int(input())\n",
    "strs = []\n",
    "for i in range(n):\n",
    "    strs.append(input())\n",
    "\n",
    "res = \"\"\n",
    "for tmp in zip(*strs):\n",
    "    tmp_set = set(tmp)\n",
    "    if len(tmp_set) == 1:\n",
    "        res += tmp[0]\n",
    "    else:\n",
    "        break\n",
    "print(res)"
   ]
  },
  {
   "cell_type": "code",
   "execution_count": null,
   "metadata": {
    "scrolled": false
   },
   "outputs": [],
   "source": [
    "# s1-8\n",
    "# 复数运算\n",
    "c1 = complex(input())\n",
    "c2 = complex(input())\n",
    "s = c1+c2\n",
    "diff = c1 - c2\n",
    "mul = c1*c2\n",
    "quo = 'ERROR' if (c2 == 0) else c1/c2\n",
    "conj = c1.conjugate()\n",
    "absc = abs(c1)\n",
    "print(\"{},{},{},{},{},{}\".format(s, diff, mul, quo, conj, absc))"
   ]
  },
  {
   "cell_type": "code",
   "execution_count": null,
   "metadata": {},
   "outputs": [],
   "source": [
    "# s1-9\n",
    "# all()和any()函数的使用\n",
    "n = int(input())\n",
    "res = []\n",
    "for i in range(n):\n",
    "    m = bin(int(input()))[2:]\n",
    "#     print(m)\n",
    "    if(all(t == '1' for t in m)):\n",
    "        res.append(True)\n",
    "    else:\n",
    "        res.append(False)\n",
    "print(','.join(str(i) for i in res))"
   ]
  },
  {
   "cell_type": "code",
   "execution_count": 1,
   "metadata": {},
   "outputs": [
    {
     "name": "stdout",
     "output_type": "stream",
     "text": [
      "3\n",
      "MMXXI\n",
      "MMMCMXCIX\n",
      "CMXLIX\n",
      "2021,False,949\n"
     ]
    }
   ],
   "source": [
    "# s-10\n",
    "# 罗马数字\n",
    "def RomanInt2Int(s):\n",
    "    d = {'I': 1, 'V': 5, 'X': 10, 'L': 50, 'C': 100, 'D': 500, 'M': 1000}\n",
    "    count = 0\n",
    "    for i in range(len(s) - 1):\n",
    "        if d[s[i]] < d[s[i + 1]]:\n",
    "            count -= d[s[i]]\n",
    "        else:\n",
    "            count += d[s[i]]\n",
    "    count += d[s[len(s) - 1]]\n",
    "    return count if 1 < count <= 3999 else False\n",
    "\n",
    "n=int(input())\n",
    "res = []\n",
    "for i in range(n):\n",
    "    s = input()\n",
    "    res.append(RomanInt2Int(s))\n",
    "print(','.join(str(i) for i in res))"
   ]
  }
 ],
 "metadata": {
  "interpreter": {
   "hash": "22a32f74c5cbc7599371b4cefea49d57da2dd14ce40b10f87a18ec4d4263aaab"
  },
  "kernelspec": {
   "display_name": "Python 3.9.7 64-bit ('py39_class': conda)",
   "name": "python3"
  },
  "language_info": {
   "codemirror_mode": {
    "name": "ipython",
    "version": 3
   },
   "file_extension": ".py",
   "mimetype": "text/x-python",
   "name": "python",
   "nbconvert_exporter": "python",
   "pygments_lexer": "ipython3",
   "version": "3.9.7"
  }
 },
 "nbformat": 4,
 "nbformat_minor": 2
}
