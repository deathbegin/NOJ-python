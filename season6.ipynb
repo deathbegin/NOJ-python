{
 "cells": [
  {
   "cell_type": "code",
   "execution_count": 38,
   "metadata": {},
   "outputs": [
    {
     "name": "stdout",
     "output_type": "stream",
     "text": [
      "True\n"
     ]
    }
   ],
   "source": [
    "# 051,s6-1\n",
    "'''\n",
    "两种解法，已有最长回文子序列，还可以求正序和逆序的最长公共子序列\n",
    "'''\n",
    "s = input()\n",
    "n = int(input())\n",
    "l = len(s)\n",
    "###最长回文子序列，二维版\n",
    "# dp = [[0]*l for _ in range(l)]\n",
    "# for i in range(l-1, -1, -1):\n",
    "#     dp[i][i] = 1\n",
    "#     for j in range(i+1, l):\n",
    "#         if s[i] == s[j]:\n",
    "#             dp[i][j] = dp[i+1][j-1]+2\n",
    "#         else:\n",
    "#             dp[i][j] = max(dp[i+1][j], dp[i][j-1])\n",
    "###最长回文子序列，一维版\n",
    "dp = [0]*l\n",
    "old = 0\n",
    "for i in range(l-1, -1, -1):\n",
    "    dp[i] = 1\n",
    "    for j in range(i+1, l):\n",
    "        if s[i] == s[j]:\n",
    "            dp[j] = old+2\n",
    "        else:\n",
    "            dp[j] = max(dp[j], dp[j-1])\n",
    "        old = dp[j]\n",
    "\n",
    "print(bool(old+n >= l))\n"
   ]
  },
  {
   "cell_type": "code",
   "execution_count": 13,
   "metadata": {},
   "outputs": [
    {
     "name": "stdout",
     "output_type": "stream",
     "text": [
      "1 7 8 9 9 10 11\n"
     ]
    }
   ],
   "source": [
    "# 052,s6-2\n",
    "class Node(object):\n",
    "    \"\"\"单链表的结点\"\"\"\n",
    "\n",
    "    def __init__(self, item):\n",
    "        # item存放数据元素\n",
    "\n",
    "        self.item = item\n",
    "        # next是下一个节点的标识\n",
    "        self.next = None\n",
    "\n",
    "\n",
    "list1 = list(map(int, input().split(' ')))\n",
    "list2 = list(map(int, input().split(' ')))\n",
    "t1 = link_list1 = Node(-1)\n",
    "t2 = link_list2 = Node(-1)\n",
    "\n",
    "for i in list1:\n",
    "    node = Node(i)\n",
    "    t1.next = node\n",
    "    t1 = t1.next\n",
    "for i in list2:\n",
    "    node = Node(i)\n",
    "    t2.next = node\n",
    "    t2 = t2.next\n",
    "\n",
    "t1 = link_list1.next\n",
    "t2 = link_list2.next\n",
    "head = link_list3 = Node(-1)\n",
    "while t1 and t2:\n",
    "    if t1.item < t2.item:\n",
    "        head.next = t1\n",
    "        t1 = t1.next\n",
    "    else:\n",
    "        head.next = t2\n",
    "        t2 = t2.next\n",
    "    head = head.next\n",
    "head.next = t1 if t1 else t2\n",
    "head = link_list3.next\n",
    "while head.next:\n",
    "    print(head.item, end=' ')\n",
    "    head = head.next\n",
    "print(head.item)\n"
   ]
  },
  {
   "cell_type": "code",
   "execution_count": 16,
   "metadata": {},
   "outputs": [
    {
     "name": "stdout",
     "output_type": "stream",
     "text": [
      "3\n"
     ]
    }
   ],
   "source": [
    "# 053,s6-3\n",
    "li = list(map(int, input().split(' ')))\n",
    "k = int(input())\n",
    "res =0 \n",
    "for i in range(len(li)):\n",
    "    s = 0\n",
    "    for j in range(i, len(li)):\n",
    "        s += li[j]\n",
    "        if s==k:\n",
    "            res+=1\n",
    "        elif s>k:\n",
    "            break\n",
    "print(res)\n"
   ]
  },
  {
   "cell_type": "code",
   "execution_count": 18,
   "metadata": {},
   "outputs": [
    {
     "name": "stdout",
     "output_type": "stream",
     "text": [
      "5\n"
     ]
    }
   ],
   "source": [
    "# 054,s6-4\n",
    "li = list(map(int, input().split(' ')))\n",
    "pos = 0\n",
    "for i in range(len(li)):\n",
    "    if li[i] != li[pos]:\n",
    "        pos += 1\n",
    "        li[pos] = li[i]\n",
    "print(pos+1)\n"
   ]
  },
  {
   "cell_type": "code",
   "execution_count": 22,
   "metadata": {},
   "outputs": [
    {
     "name": "stdout",
     "output_type": "stream",
     "text": [
      "1 1 4 2 1 1 0 0\n"
     ]
    }
   ],
   "source": [
    "# 055,s6-5\n",
    "temparatures = list(map(int, input().split(' ')))\n",
    "l = len(temparatures)\n",
    "wait_high = [0]*l\n",
    "stack = []\n",
    "for i in range(l):\n",
    "    temparature = temparatures[i]\n",
    "    while stack and temparature > temparatures[stack[-1]]:\n",
    "        prev_index = stack.pop()\n",
    "        wait_high[prev_index] = i-prev_index\n",
    "    stack.append(i)\n",
    "print(*wait_high)\n"
   ]
  },
  {
   "cell_type": "code",
   "execution_count": 13,
   "metadata": {},
   "outputs": [
    {
     "name": "stdout",
     "output_type": "stream",
     "text": [
      "5\n"
     ]
    }
   ],
   "source": [
    "# 056,s6-6\n",
    "n, m = map(int, input().split())\n",
    "matrix = []\n",
    "for i in range(n):\n",
    "    tmp = list(map(int, input().split()))\n",
    "    matrix.append(tmp)\n",
    "\n",
    "c = 0\n",
    "queue = []\n",
    "dires = [[0, 1], [0, -1], [1, 0], [-1, 0]]\n",
    "visted = [[False]*m]*n\n",
    "for i in range(n):\n",
    "    for j in range(m):\n",
    "        if not matrix[i][j]:\n",
    "            continue\n",
    "        if not queue:       # 这里有点多余\n",
    "            c += 1\n",
    "            queue.append([i, j])\n",
    "        while queue:\n",
    "            [x, y] = queue.pop(0)\n",
    "            for dx, dy in dires:\n",
    "                nx, ny = x+dx, y+dy\n",
    "                if 0 <= nx < n and 0 <= ny < m and matrix[nx][ny]:\n",
    "                    queue.append([nx, ny])\n",
    "                    matrix[nx][ny] = 0\n",
    "'''\n",
    "for i in range(n):\n",
    "    for j in range(m):\n",
    "        if visted[i][j]:\n",
    "            continue\n",
    "        if not queue:  # 这里有点多余\n",
    "            c += 1\n",
    "            queue.append([i, j])\n",
    "        while queue:\n",
    "            [x, y] = queue.pop(0)\n",
    "            for dx, dy in dires:\n",
    "                nx, ny = x+dx, y+dy\n",
    "                if 0 <= nx < n and 0 <= ny < m and not visted[nx][ny]:\n",
    "                    queue.append([nx, ny])\n",
    "                    visted[nx][ny] = True\n",
    "'''\n",
    "print(c)\n"
   ]
  },
  {
   "cell_type": "code",
   "execution_count": 7,
   "metadata": {},
   "outputs": [
    {
     "name": "stdout",
     "output_type": "stream",
     "text": [
      "[2, 3]\n"
     ]
    }
   ],
   "source": [
    "# 057,s6-7\n",
    "# 异或之后用存在不同的位（值为1）来分组，两个只出现一次的必然被分开，重复出现的自然分在一起\n",
    "import functools\n",
    "li = list(map(int, input().split()))\n",
    "ret = functools.reduce(lambda x, y: x ^ y, li)\n",
    "div = 1\n",
    "while (div & ret) == 0:  # 找到第一个值为1的“位”\n",
    "    div <<= 1  # =别忘了\n",
    "a, b = 0, 0\n",
    "for n in li:\n",
    "    if n & div:\n",
    "        a ^= n\n",
    "    else:\n",
    "        b ^= n\n",
    "res = [a, b]\n",
    "res.sort()\n",
    "print(res)\n"
   ]
  },
  {
   "cell_type": "code",
   "execution_count": 14,
   "metadata": {},
   "outputs": [
    {
     "name": "stdout",
     "output_type": "stream",
     "text": [
      "True\n",
      "True\n",
      "True\n",
      "True\n",
      "False\n",
      "3\n"
     ]
    }
   ],
   "source": [
    "# 058,s6-8\n",
    "n = int(input())\n",
    "m = int(input())\n",
    "circular_queue = [0]*n\n",
    "front = rear = 0\n",
    "count = 0\n",
    "for i in range(m):\n",
    "    li = input()\n",
    "    if '1' == li[0]:\n",
    "        if count < n:\n",
    "            circular_queue[rear] = int(li[2:])\n",
    "            rear = (rear+1) % n\n",
    "            count += 1\n",
    "            print(True)\n",
    "        else:\n",
    "            print(False)\n",
    "    else:\n",
    "        if count > 0:\n",
    "            print(circular_queue[front])\n",
    "            front = (rear+1) % n\n",
    "            count -= 1\n",
    "        else:\n",
    "            print(-1)\n"
   ]
  },
  {
   "cell_type": "code",
   "execution_count": 17,
   "metadata": {},
   "outputs": [
    {
     "name": "stdout",
     "output_type": "stream",
     "text": [
      "2\n"
     ]
    }
   ],
   "source": [
    "# 059,s6-9\n",
    "li = list(map(int, input().split()))\n",
    "l = len(li)\n",
    "target = int(input())\n",
    "li.sort()\n",
    "res = 0\n",
    "for a in range(l):\n",
    "    c = l-1\n",
    "    for b in range(a+1, l):\n",
    "        while b < c and li[a]+li[b]+li[c] >= target:\n",
    "            c -= 1\n",
    "        if b == c:\n",
    "            break\n",
    "        if li[a]+li[b]+li[c] < target:\n",
    "            res += c-b\n",
    "print(res)\n"
   ]
  },
  {
   "cell_type": "code",
   "execution_count": 25,
   "metadata": {},
   "outputs": [
    {
     "name": "stdout",
     "output_type": "stream",
     "text": [
      "2\n"
     ]
    }
   ],
   "source": [
    "# 060,s6-10\n",
    "# 前缀和和dp，访问完所有房间\n",
    "MOD = 1e9+7\n",
    "nextVisit = list(map(int, input().split()))\n",
    "n = len(nextVisit)\n",
    "ans = [0]*n\n",
    "for i in range(1, n):\n",
    "    # 第一次到达 [i-1] 房间的天数为 f[i-1]\n",
    "    # 第一次到达后，第二次到达 [i-1] 房间的天数为 1 + f[i-1] - f[nextVisit[i-1]]\n",
    "    # ans[i] = (ans[i-1]+1+(ans[i-1]-ans[nextVisit[i-1]])+1) % MOD\n",
    "    # 加mod防止出现负数\n",
    "    ans[i] = (ans[i-1]+1+(ans[i-1]-ans[nextVisit[i-1]])+1 + MOD) % MOD\n",
    "\n",
    "print(int(ans[n-1]))\n"
   ]
  }
 ],
 "metadata": {
  "interpreter": {
   "hash": "22a32f74c5cbc7599371b4cefea49d57da2dd14ce40b10f87a18ec4d4263aaab"
  },
  "kernelspec": {
   "display_name": "Python 3.9.7 64-bit ('py39_class': conda)",
   "name": "python3"
  },
  "language_info": {
   "codemirror_mode": {
    "name": "ipython",
    "version": 3
   },
   "file_extension": ".py",
   "mimetype": "text/x-python",
   "name": "python",
   "nbconvert_exporter": "python",
   "pygments_lexer": "ipython3",
   "version": "3.9.7"
  },
  "orig_nbformat": 4
 },
 "nbformat": 4,
 "nbformat_minor": 2
}
