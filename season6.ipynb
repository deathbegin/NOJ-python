{
 "cells": [
  {
   "cell_type": "code",
   "execution_count": 38,
   "metadata": {},
   "outputs": [
    {
     "name": "stdout",
     "output_type": "stream",
     "text": [
      "True\n"
     ]
    }
   ],
   "source": [
    "# 051,s6-1\n",
    "'''\n",
    "两种解法，已有最长回文子序列，还可以求正序和逆序的最长公共子序列\n",
    "'''\n",
    "s = input()\n",
    "n = int(input())\n",
    "l = len(s)\n",
    "###最长回文子序列，二维版\n",
    "# dp = [[0]*l for _ in range(l)]\n",
    "# for i in range(l-1, -1, -1):\n",
    "#     dp[i][i] = 1\n",
    "#     for j in range(i+1, l):\n",
    "#         if s[i] == s[j]:\n",
    "#             dp[i][j] = dp[i+1][j-1]+2\n",
    "#         else:\n",
    "#             dp[i][j] = max(dp[i+1][j], dp[i][j-1])\n",
    "###最长回文子序列，一维版\n",
    "dp = [0]*l\n",
    "old = 0\n",
    "for i in range(l-1, -1, -1):\n",
    "    dp[i] = 1\n",
    "    for j in range(i+1, l):\n",
    "        if s[i] == s[j]:\n",
    "            dp[j] = old+2\n",
    "        else:\n",
    "            dp[j] = max(dp[j], dp[j-1])\n",
    "        old = dp[j]\n",
    "\n",
    "print(bool(old+n >= l))\n"
   ]
  },
  {
   "cell_type": "code",
   "execution_count": 13,
   "metadata": {},
   "outputs": [
    {
     "name": "stdout",
     "output_type": "stream",
     "text": [
      "1 7 8 9 9 10 11\n"
     ]
    }
   ],
   "source": [
    "# 052,s6-2\n",
    "class Node(object):\n",
    "    \"\"\"单链表的结点\"\"\"\n",
    "\n",
    "    def __init__(self, item):\n",
    "        # item存放数据元素\n",
    "\n",
    "        self.item = item\n",
    "        # next是下一个节点的标识\n",
    "        self.next = None\n",
    "\n",
    "\n",
    "list1 = list(map(int, input().split(' ')))\n",
    "list2 = list(map(int, input().split(' ')))\n",
    "t1 = link_list1 = Node(-1)\n",
    "t2 = link_list2 = Node(-1)\n",
    "\n",
    "for i in list1:\n",
    "    node = Node(i)\n",
    "    t1.next = node\n",
    "    t1 = t1.next\n",
    "for i in list2:\n",
    "    node = Node(i)\n",
    "    t2.next = node\n",
    "    t2 = t2.next\n",
    "\n",
    "t1 = link_list1.next\n",
    "t2 = link_list2.next\n",
    "head = link_list3 = Node(-1)\n",
    "while t1 and t2:\n",
    "    if t1.item < t2.item:\n",
    "        head.next = t1\n",
    "        t1 = t1.next\n",
    "    else:\n",
    "        head.next = t2\n",
    "        t2 = t2.next\n",
    "    head = head.next\n",
    "head.next = t1 if t1 else t2\n",
    "head = link_list3.next\n",
    "while head.next:\n",
    "    print(head.item, end=' ')\n",
    "    head = head.next\n",
    "print(head.item)\n"
   ]
  },
  {
   "cell_type": "code",
   "execution_count": 16,
   "metadata": {},
   "outputs": [
    {
     "name": "stdout",
     "output_type": "stream",
     "text": [
      "3\n"
     ]
    }
   ],
   "source": [
    "# 053,s6-3\n",
    "li = list(map(int, input().split(' ')))\n",
    "k = int(input())\n",
    "res =0 \n",
    "for i in range(len(li)):\n",
    "    s = 0\n",
    "    for j in range(i, len(li)):\n",
    "        s += li[j]\n",
    "        if s==k:\n",
    "            res+=1\n",
    "        elif s>k:\n",
    "            break\n",
    "print(res)\n"
   ]
  },
  {
   "cell_type": "code",
   "execution_count": 18,
   "metadata": {},
   "outputs": [
    {
     "name": "stdout",
     "output_type": "stream",
     "text": [
      "5\n"
     ]
    }
   ],
   "source": [
    "# 054,s6-4\n",
    "li = list(map(int, input().split(' ')))\n",
    "pos = 0\n",
    "for i in range(len(li)):\n",
    "    if li[i] != li[pos]:\n",
    "        pos += 1\n",
    "        li[pos] = li[i]\n",
    "print(pos+1)\n"
   ]
  },
  {
   "cell_type": "code",
   "execution_count": 22,
   "metadata": {},
   "outputs": [
    {
     "name": "stdout",
     "output_type": "stream",
     "text": [
      "1 1 4 2 1 1 0 0\n"
     ]
    }
   ],
   "source": [
    "# 055,s6-5\n",
    "temparatures = list(map(int, input().split(' ')))\n",
    "l = len(temparatures)\n",
    "wait_high = [0]*l\n",
    "stack = []\n",
    "for i in range(l):\n",
    "    temparature = temparatures[i]\n",
    "    while stack and temparature > temparatures[stack[-1]]:\n",
    "        prev_index = stack.pop()\n",
    "        wait_high[prev_index] = i-prev_index\n",
    "    stack.append(i)\n",
    "print(*wait_high)\n"
   ]
  },
  {
   "cell_type": "code",
   "execution_count": 13,
   "metadata": {},
   "outputs": [
    {
     "name": "stdout",
     "output_type": "stream",
     "text": [
      "5\n"
     ]
    }
   ],
   "source": [
    "# 056,s6-6\n",
    "n, m = map(int, input().split())\n",
    "matrix = []\n",
    "for i in range(n):\n",
    "    tmp = list(map(int, input().split()))\n",
    "    matrix.append(tmp)\n",
    "\n",
    "c = 0\n",
    "queue = []\n",
    "dires = [[0, 1], [0, -1], [1, 0], [-1, 0]]\n",
    "visted = [[False]*m]*n\n",
    "for i in range(n):\n",
    "    for j in range(m):\n",
    "        if not matrix[i][j]:\n",
    "            continue\n",
    "        if not queue:       # 这里有点多余\n",
    "            c += 1\n",
    "            queue.append([i, j])\n",
    "        while queue:\n",
    "            [x, y] = queue.pop(0)\n",
    "            for dx, dy in dires:\n",
    "                nx, ny = x+dx, y+dy\n",
    "                if 0 <= nx < n and 0 <= ny < m and matrix[nx][ny]:\n",
    "                    queue.append([nx, ny])\n",
    "                    matrix[nx][ny] = 0\n",
    "'''\n",
    "for i in range(n):\n",
    "    for j in range(m):\n",
    "        if visted[i][j]:\n",
    "            continue\n",
    "        if not queue:  # 这里有点多余\n",
    "            c += 1\n",
    "            queue.append([i, j])\n",
    "        while queue:\n",
    "            [x, y] = queue.pop(0)\n",
    "            for dx, dy in dires:\n",
    "                nx, ny = x+dx, y+dy\n",
    "                if 0 <= nx < n and 0 <= ny < m and not visted[nx][ny]:\n",
    "                    queue.append([nx, ny])\n",
    "                    visted[nx][ny] = True\n",
    "'''\n",
    "print(c)\n"
   ]
  }
 ],
 "metadata": {
  "interpreter": {
   "hash": "22a32f74c5cbc7599371b4cefea49d57da2dd14ce40b10f87a18ec4d4263aaab"
  },
  "kernelspec": {
   "display_name": "Python 3.9.7 64-bit ('py39_class': conda)",
   "name": "python3"
  },
  "language_info": {
   "codemirror_mode": {
    "name": "ipython",
    "version": 3
   },
   "file_extension": ".py",
   "mimetype": "text/x-python",
   "name": "python",
   "nbconvert_exporter": "python",
   "pygments_lexer": "ipython3",
   "version": "3.9.7"
  },
  "orig_nbformat": 4
 },
 "nbformat": 4,
 "nbformat_minor": 2
}
