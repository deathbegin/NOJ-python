{
 "cells": [
  {
   "cell_type": "code",
   "execution_count": 38,
   "metadata": {},
   "outputs": [
    {
     "name": "stdout",
     "output_type": "stream",
     "text": [
      "True\n"
     ]
    }
   ],
   "source": [
    "# 051,s5-1\n",
    "s = input()\n",
    "n = int(input())\n",
    "l = len(s)\n",
    "# dp = [[0]*l for _ in range(l)]\n",
    "# for i in range(l-1, -1, -1):\n",
    "#     dp[i][i] = 1\n",
    "#     for j in range(i+1, l):\n",
    "#         if s[i] == s[j]:\n",
    "#             dp[i][j] = dp[i+1][j-1]+2\n",
    "#         else:\n",
    "#             dp[i][j] = max(dp[i+1][j], dp[i][j-1])\n",
    "dp = [0]*l\n",
    "old = 0\n",
    "for i in range(l-1, -1, -1):\n",
    "    dp[i] = 1\n",
    "    for j in range(i+1, l):\n",
    "        if s[i] == s[j]:\n",
    "            dp[j] = old+2\n",
    "        else:\n",
    "            dp[j] = max(dp[j], dp[j-1])\n",
    "        old = dp[j]\n",
    "\n",
    "print(bool(old+n >= l))\n"
   ]
  }
 ],
 "metadata": {
  "interpreter": {
   "hash": "22a32f74c5cbc7599371b4cefea49d57da2dd14ce40b10f87a18ec4d4263aaab"
  },
  "kernelspec": {
   "display_name": "Python 3.9.7 64-bit ('py39_class': conda)",
   "name": "python3"
  },
  "language_info": {
   "codemirror_mode": {
    "name": "ipython",
    "version": 3
   },
   "file_extension": ".py",
   "mimetype": "text/x-python",
   "name": "python",
   "nbconvert_exporter": "python",
   "pygments_lexer": "ipython3",
   "version": "3.9.7"
  },
  "orig_nbformat": 4
 },
 "nbformat": 4,
 "nbformat_minor": 2
}
