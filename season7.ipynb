{
 "cells": [
  {
   "cell_type": "markdown",
   "metadata": {},
   "source": [
    "**用eval(),np.safe_eval()函数来从字符串转list，再转np.array**\n",
    "**用eval(),np.safe_eval()函数来从字符串转list，再转np.array**\n",
    "**用eval(),np.safe_eval()函数来从字符串转list，再转np.array**"
   ]
  },
  {
   "cell_type": "code",
   "execution_count": 23,
   "metadata": {},
   "outputs": [
    {
     "name": "stdout",
     "output_type": "stream",
     "text": [
      "[[7 9]\n",
      " [7 9]]\n"
     ]
    }
   ],
   "source": [
    "# T061,s7-1\n",
    "import numpy as np\n",
    "s = input()\n",
    "arr=np.array(s[1:len(s)-1].split(','),dtype=int)\n",
    "mean = np.average(arr)\n",
    "arr = np.compress(arr > mean, arr)\n",
    "arr = np.tile(arr, (arr.size, 1))\n",
    "print(arr)\n"
   ]
  },
  {
   "cell_type": "code",
   "execution_count": null,
   "metadata": {},
   "outputs": [],
   "source": [
    "# T062,s7-2\n"
   ]
  }
 ],
 "metadata": {
  "interpreter": {
   "hash": "70d1e97abe067d404ead2bfe3121f8d7cfed29e672d9fe8292252dae1e84269d"
  },
  "kernelspec": {
   "display_name": "Python 3.8.8 64-bit ('base': conda)",
   "language": "python",
   "name": "python3"
  },
  "language_info": {
   "codemirror_mode": {
    "name": "ipython",
    "version": 3
   },
   "file_extension": ".py",
   "mimetype": "text/x-python",
   "name": "python",
   "nbconvert_exporter": "python",
   "pygments_lexer": "ipython3",
   "version": "3.8.12"
  },
  "orig_nbformat": 4
 },
 "nbformat": 4,
 "nbformat_minor": 2
}
