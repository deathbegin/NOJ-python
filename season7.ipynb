{
 "cells": [
  {
   "cell_type": "markdown",
   "metadata": {},
   "source": [
    "**用eval(),np.safe_eval()函数来从字符串转list，再转np.array**\n",
    "\n",
    "**用eval(),np.safe_eval()函数来从字符串转list，再转np.array**\n",
    "\n",
    "**用eval(),np.safe_eval()函数来从字符串转list，再转np.array**"
   ]
  },
  {
   "cell_type": "code",
   "execution_count": 23,
   "metadata": {},
   "outputs": [
    {
     "name": "stdout",
     "output_type": "stream",
     "text": [
      "[[7 9]\n",
      " [7 9]]\n"
     ]
    }
   ],
   "source": [
    "# T061,s7-1\n",
    "import numpy as np\n",
    "s = input()\n",
    "arr = np.array(s[1:len(s)-1].split(','), dtype=int)\n",
    "mean = np.average(arr)\n",
    "arr = np.compress(arr > mean, arr)\n",
    "arr = np.tile(arr, (arr.size, 1))\n",
    "print(arr)\n"
   ]
  },
  {
   "cell_type": "code",
   "execution_count": 3,
   "metadata": {},
   "outputs": [
    {
     "name": "stdout",
     "output_type": "stream",
     "text": [
      "[0.4472136  0.83205029 1.26491106]\n"
     ]
    }
   ],
   "source": [
    "# T062,s7-2\n",
    "import numpy as np\n",
    "x = np.array(np.safe_eval(input()))\n",
    "y = np.array(np.safe_eval(input()))\n",
    "p = np.array(np.safe_eval(input()))\n",
    "ans = []\n",
    "for i in range(3):\n",
    "    p1 = x[i]\n",
    "    p2 = y[i]\n",
    "    # 公式|a*x0+b*y0+c|/srqt(a**2+b**2)\n",
    "    # a=y2-y1,b=x1-x2,c=x1*(y1-y2)+y1*(x2-x1)\n",
    "    A = p2[1]-p1[1]\n",
    "    B = p1[0]-p2[0]\n",
    "    C = p1[0]*(p1[1]-p2[1])+p1[1]*(p2[0]-p1[0])\n",
    "    distance = np.abs(A*p[0]+B*p[1]+C)/np.sqrt(A**2+B**2)\n",
    "    ans.append(distance)\n",
    "print(np.array(ans))\n"
   ]
  },
  {
   "cell_type": "code",
   "execution_count": 1,
   "metadata": {},
   "outputs": [
    {
     "name": "stdout",
     "output_type": "stream",
     "text": [
      "[[-1.28864515 -0.45208796  0.11233629]\n",
      " [-0.14378263  0.77002098  1.44712055]\n",
      " [ 0.83619492 -1.84364199  0.56248499]]\n"
     ]
    }
   ],
   "source": [
    "# T063,s7-3\n",
    "import numpy as np\n",
    "m = np.array(np.safe_eval(input()))\n",
    "# print(m)\n",
    "mu = np.mean(m)\n",
    "sigma = np.std(m, ddof=0)\n",
    "m = (m-mu)/sigma\n",
    "m = np.round(m, decimals=8)\n",
    "print(m)\n"
   ]
  },
  {
   "cell_type": "code",
   "execution_count": 24,
   "metadata": {},
   "outputs": [
    {
     "name": "stdout",
     "output_type": "stream",
     "text": [
      "[8, 1, 7, 1, 0, 5, 1, 0, 4]\n",
      "[8, 9, 1, 7, 1, 5, 1, 4]\n",
      "[8, 1, 7, 1, 0, 5, 1, 0, 4]\n",
      "[8, 9, 1, 7, 1, 5, 1, 4, -1]\n",
      "[[ 8  1  7  1  0  5  1  0  4]\n",
      " [ 8  9  1  7  1  5  1  4 -1]]\n"
     ]
    }
   ],
   "source": [
    "# T064,s7-4\n",
    "#题目说明不够清晰，如果两个数组差距为2怎么办呢？\n",
    "import numpy as np\n",
    "arr = np.array(np.safe_eval(input()))\n",
    "ta = np.max(arr)\n",
    "ti = np.min(arr)\n",
    "arrNoMax = np.compress(arr < ta, arr)\n",
    "arrNoMin = np.compress(arr > ti, arr)\n",
    "print(list(arrNoMax))\n",
    "print(list(arrNoMin))\n",
    "if(arrNoMin.size < arrNoMax.size):\n",
    "    for i in range(arrNoMax.size-arrNoMin.size):\n",
    "        arrNoMin = np.append(arrNoMin, -1)\n",
    "else:\n",
    "    for i in range(arrNoMin.size-arrNoMax.size):\n",
    "        arrNoMax = np.append(arrNoMax, -1)\n",
    "# print(list(arrNoMax))\n",
    "# print(list(arrNoMin))\n",
    "arr = np.vstack((arrNoMax, arrNoMin))\n",
    "print(arr)\n"
   ]
  },
  {
   "cell_type": "code",
   "execution_count": 5,
   "metadata": {},
   "outputs": [
    {
     "data": {
      "text/plain": [
       "0"
      ]
     },
     "execution_count": 5,
     "metadata": {},
     "output_type": "execute_result"
    }
   ],
   "source": [
    "# T065,s7-5\n",
    "# 如果是只做整数部分处理意义不明\n",
    "import numpy as np\n",
    "arr = np.array(np.safe_eval(input()))\n",
    "arr = np.floor(arr)\n",
    "dif = np.array(np.safe_eval(input()))\n",
    "arr = np.setdiff1d(arr, dif)\n",
    "ans = np.abs(arr-np.mean(arr)).argmin()\n",
    "ans\n"
   ]
  },
  {
   "cell_type": "code",
   "execution_count": 18,
   "metadata": {},
   "outputs": [
    {
     "data": {
      "text/plain": [
       "array([[-1, -1, -1, -1, -1, -1, -1],\n",
       "       [-1,  0,  0,  0,  0,  0, -1],\n",
       "       [-1,  2,  0,  0,  0,  0, -1],\n",
       "       [-1,  0,  3,  0,  0,  0, -1],\n",
       "       [-1,  0,  0,  4,  0,  0, -1],\n",
       "       [-1,  0,  0,  0,  5,  0, -1],\n",
       "       [-1, -1, -1, -1, -1, -1, -1]])"
      ]
     },
     "execution_count": 18,
     "metadata": {},
     "output_type": "execute_result"
    }
   ],
   "source": [
    "# T066,s7-6\n",
    "# 输出应该是(n+3)*(n+3)\n",
    "import numpy as np\n",
    "n = int(input())\n",
    "m = np.zeros([n+3, n+3], int)\n",
    "m[0] = -1\n",
    "m[-1] = -1\n",
    "m[:, 0] = -1\n",
    "m[:, -1] = -1\n",
    "for i in range(2, n+2):\n",
    "    m[i, i-1] = i\n",
    "m\n"
   ]
  },
  {
   "cell_type": "code",
   "execution_count": 122,
   "metadata": {},
   "outputs": [
    {
     "name": "stdout",
     "output_type": "stream",
     "text": [
      "[[1 4 7]\n",
      " [1 4 8]\n",
      " [1 4 9]\n",
      " [1 5 7]\n",
      " [1 5 8]\n",
      " [1 5 9]\n",
      " [1 6 7]\n",
      " [1 6 8]\n",
      " [1 6 9]\n",
      " [2 4 7]\n",
      " [2 4 8]\n",
      " [2 4 9]\n",
      " [2 5 7]\n",
      " [2 5 8]\n",
      " [2 5 9]\n",
      " [2 6 7]\n",
      " [2 6 8]\n",
      " [2 6 9]\n",
      " [3 4 7]\n",
      " [3 4 8]\n",
      " [3 4 9]\n",
      " [3 5 7]\n",
      " [3 5 8]\n",
      " [3 5 9]\n",
      " [3 6 7]\n",
      " [3 6 8]\n",
      " [3 6 9]]\n"
     ]
    }
   ],
   "source": [
    "# T067,s7-7\n",
    "# 还是没有找到一个便捷的方法，用numpy求笛卡尔积\n",
    "import numpy as np\n",
    "import itertools\n",
    "# ([1, 2, 3], [4, 5,6], [7,8,9])\n",
    "s = eval(input())\n",
    "print(np.array(list(itertools.product(s[0], s[1],s[2]))))\n"
   ]
  },
  {
   "cell_type": "code",
   "execution_count": 140,
   "metadata": {},
   "outputs": [
    {
     "name": "stdout",
     "output_type": "stream",
     "text": [
      "[[0 1 2 3 4]\n",
      " [1 2 3 4 5]\n",
      " [2 3 4 5 6]\n",
      " [3 4 5 6 7]\n",
      " [4 5 6 7 8]\n",
      " [5 6 7 8 9]]\n"
     ]
    }
   ],
   "source": [
    "# T068,s7-8\n",
    "import numpy as np\n",
    "n = int(input())\n",
    "ans = np.array([],dtype=int)\n",
    "for i in range(n+1):\n",
    "    ans = np.concatenate((ans, np.arange(i, i+n)))\n",
    "print(ans.reshape(-1,n))"
   ]
  },
  {
   "cell_type": "code",
   "execution_count": 136,
   "metadata": {},
   "outputs": [
    {
     "name": "stdout",
     "output_type": "stream",
     "text": [
      "[[ 0  1  2  3]\n",
      " [ 4  5  6  7]\n",
      " [12 13 14 15]\n",
      " [ 8  9 10 11]]\n"
     ]
    }
   ],
   "source": [
    "# T069,s7-9\n",
    "import numpy as np\n",
    "c = int(input())\n",
    "m = int(input())\n",
    "n = int(input())\n",
    "arr = np.array(eval(input()), dtype=int)\n",
    "if c:\n",
    "    arr[:, [m, n]] = arr[:, [n, m]]\n",
    "else:\n",
    "    arr[[m, n], :] = arr[[n, m], :]\n",
    "print(arr)"
   ]
  },
  {
   "cell_type": "code",
   "execution_count": 138,
   "metadata": {},
   "outputs": [
    {
     "name": "stdout",
     "output_type": "stream",
     "text": [
      "[0 1 2 3 4]\n"
     ]
    }
   ],
   "source": [
    "# T070,s7-10\n",
    "import numpy as np\n",
    "print(np.fromiter([x for x in range(5)], int))"
   ]
  }
 ],
 "metadata": {
  "interpreter": {
   "hash": "70d1e97abe067d404ead2bfe3121f8d7cfed29e672d9fe8292252dae1e84269d"
  },
  "kernelspec": {
   "display_name": "Python 3.8.8 64-bit ('base': conda)",
   "language": "python",
   "name": "python3"
  },
  "language_info": {
   "codemirror_mode": {
    "name": "ipython",
    "version": 3
   },
   "file_extension": ".py",
   "mimetype": "text/x-python",
   "name": "python",
   "nbconvert_exporter": "python",
   "pygments_lexer": "ipython3",
   "version": "3.8.12"
  },
  "orig_nbformat": 4
 },
 "nbformat": 4,
 "nbformat_minor": 2
}
