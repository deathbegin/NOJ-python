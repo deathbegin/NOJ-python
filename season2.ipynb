{
 "cells": [
  {
   "cell_type": "code",
   "execution_count": 9,
   "metadata": {},
   "outputs": [
    {
     "name": "stdout",
     "output_type": "stream",
     "text": [
      "(4, 4, 4)\n"
     ]
    }
   ],
   "source": [
    "#011,s2-1\n",
    "li = []\n",
    "li = list(map(int,input().split(' ')))\n",
    "t = list(li)\n",
    "li.reverse()\n",
    "for i in range(len(li)):\n",
    "    t[i]+=li[i]\n",
    "print(tuple(t))"
   ]
  },
  {
   "cell_type": "code",
   "execution_count": 11,
   "metadata": {},
   "outputs": [
    {
     "name": "stdout",
     "output_type": "stream",
     "text": [
      "[1, 8, 27, 64, 125, 216, 343, 512, 729, 1000]\n"
     ]
    }
   ],
   "source": [
    "#012,s2-2\n",
    "print([x**3 for x in range(1, 11)])"
   ]
  },
  {
   "cell_type": "code",
   "execution_count": 12,
   "metadata": {},
   "outputs": [
    {
     "name": "stdout",
     "output_type": "stream",
     "text": [
      "153\n",
      "370\n",
      "371\n",
      "407\n"
     ]
    }
   ],
   "source": [
    "#013,s2-3\n",
    "for x in range(100,1000):\n",
    "    a = x//100\n",
    "    b = (x-100*a)//10\n",
    "    c = x%10\n",
    "    if(x==a**3+b**3+c**3):\n",
    "        print(x)"
   ]
  },
  {
   "cell_type": "code",
   "execution_count": 16,
   "metadata": {},
   "outputs": [
    {
     "name": "stdout",
     "output_type": "stream",
     "text": [
      "3\n"
     ]
    }
   ],
   "source": [
    "#014,s2-4\n",
    "li = list(map(int, input().split(',')))\n",
    "n = int(input())\n",
    "for i, x in enumerate(li):\n",
    "    if(n <= x):\n",
    "        print(i)\n",
    "        break\n",
    "    elif(i+1 == len(li)):\n",
    "        print(i+1)"
   ]
  },
  {
   "cell_type": "code",
   "execution_count": 21,
   "metadata": {},
   "outputs": [
    {
     "name": "stdout",
     "output_type": "stream",
     "text": [
      "1.0472\n",
      "1.2942\n"
     ]
    }
   ],
   "source": [
    "#015,s2-5\n",
    "import math\n",
    "y = float(input())\n",
    "y = math.radians(y)\n",
    "print('%.4f' % y)\n",
    "z = math.sin(y)+math.cos(y)-(math.tan(y/4))**2\n",
    "print('%.4f' % z)\n"
   ]
  },
  {
   "cell_type": "code",
   "execution_count": 23,
   "metadata": {},
   "outputs": [
    {
     "name": "stdout",
     "output_type": "stream",
     "text": [
      "366\n"
     ]
    }
   ],
   "source": [
    "#016,s2-6\n",
    "import calendar\n",
    "n = int(input())\n",
    "print(366 if (calendar.isleap(n)) else 365)"
   ]
  },
  {
   "cell_type": "code",
   "execution_count": 26,
   "metadata": {},
   "outputs": [
    {
     "name": "stdout",
     "output_type": "stream",
     "text": [
      "{1: 3, 2: 2, 4: 1, 7: 1, 8: 1, 9: 1}\n"
     ]
    }
   ],
   "source": [
    "#017,s2-7\n",
    "li = list(map(int, input().split(',')))\n",
    "li.sort()\n",
    "set = {}\n",
    "for i in li:\n",
    "    set[i] = set.get(i, 0)+1\n",
    "print(set)"
   ]
  },
  {
   "cell_type": "code",
   "execution_count": 34,
   "metadata": {},
   "outputs": [
    {
     "name": "stdout",
     "output_type": "stream",
     "text": [
      "4,5,-6,-3\n",
      "[1, 3, 5, 6]\n"
     ]
    }
   ],
   "source": [
    "#018,s2-8\n",
    "li = list(map(int, input().split(' ')))\n",
    "print(\"{},{},{},{}\".format(len(li),max(li),min(li),sum(li)))\n",
    "li = list(map(abs,li))\n",
    "li.sort()\n",
    "print(li)"
   ]
  },
  {
   "cell_type": "code",
   "execution_count": 36,
   "metadata": {},
   "outputs": [
    {
     "name": "stdout",
     "output_type": "stream",
     "text": [
      "B\n"
     ]
    }
   ],
   "source": [
    "#019,s2-9\n",
    "try:\n",
    "    grade = int(input())\n",
    "    if 100>=grade>=90:\n",
    "        print('A')\n",
    "    elif 90>grade>=80:\n",
    "        print('B')\n",
    "    elif 80>grade>=70:\n",
    "        print('C')\n",
    "    elif 70>grade>=60:\n",
    "        print('D')\n",
    "    elif 60>grade>=0:\n",
    "        print('E')\n",
    "    else:\n",
    "        print(\"data error!\")\n",
    "except:\n",
    "    print(\"data error!\")"
   ]
  },
  {
   "cell_type": "code",
   "execution_count": 62,
   "metadata": {},
   "outputs": [
    {
     "name": "stdout",
     "output_type": "stream",
     "text": [
      "[1, 1.3, '1.q', 'q.1']\n",
      "2.3\n"
     ]
    }
   ],
   "source": [
    "#020,s2-10\n",
    "import re\n",
    "m = list(input().split(\" \"))\n",
    "s = 0\n",
    "for i in range(len(m)):\n",
    "    if m[i].isdigit():\n",
    "        m[i] = int(m[i])\n",
    "        s +=m[i]\n",
    "    elif re.search('\\d+(\\.\\d+)?*',m[i]):\n",
    "        m[i] = float(m[i])\n",
    "        s += m[i]\n",
    "print(m)\n",
    "print(s)"
   ]
  }
 ],
 "metadata": {
  "interpreter": {
   "hash": "22a32f74c5cbc7599371b4cefea49d57da2dd14ce40b10f87a18ec4d4263aaab"
  },
  "kernelspec": {
   "display_name": "Python 3.9.7 64-bit ('py39_class': conda)",
   "name": "python3"
  },
  "language_info": {
   "codemirror_mode": {
    "name": "ipython",
    "version": 3
   },
   "file_extension": ".py",
   "mimetype": "text/x-python",
   "name": "python",
   "nbconvert_exporter": "python",
   "pygments_lexer": "ipython3",
   "version": "3.9.7"
  }
 },
 "nbformat": 4,
 "nbformat_minor": 2
}