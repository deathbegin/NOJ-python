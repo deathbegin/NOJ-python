{
 "cells": [
  {
   "cell_type": "code",
   "execution_count": null,
   "metadata": {},
   "outputs": [],
   "source": [
    "str = ['ab', 'abc', 'addddddd']\n",
    "z = zip(*str)\n",
    "c =list(z)\n",
    "print(c)\n",
    "\n",
    "res = \"\"\n",
    "for tmp in zip(*str):\n",
    "    print(tmp)\n",
    "    tmp_set = set(tmp)\n",
    "    print(list(tmp_set))\n",
    "    if len(tmp_set) == 1:\n",
    "        res += tmp[0]\n",
    "    else:\n",
    "        break\n",
    "print(res)"
   ]
  },
  {
   "cell_type": "code",
   "execution_count": 6,
   "metadata": {},
   "outputs": [
    {
     "name": "stdout",
     "output_type": "stream",
     "text": [
      "1+1j\n",
      "1-1j\n",
      "(2+0j),2j,(2+0j),1j,(1-1j),1.4142135623730951\n"
     ]
    }
   ],
   "source": [
    "# s1-8\n",
    "c1 = complex(input())\n",
    "c2 = complex(input())\n",
    "s = c1+c2\n",
    "diff = c1 - c2\n",
    "mul = c1*c2\n",
    "quo = 'ERROR' if (c2 == 0) else c1/c2\n",
    "conj = c1.conjugate()\n",
    "absc = abs(c1)\n",
    "print(\"{},{},{},{},{},{}\".format(s, diff, mul, quo, conj, absc))"
   ]
  },
  {
   "cell_type": "code",
   "execution_count": 11,
   "metadata": {},
   "outputs": [
    {
     "name": "stdout",
     "output_type": "stream",
     "text": [
      "2\n",
      "15\n",
      "1111\n",
      "16\n",
      "10000\n",
      "True,False\n"
     ]
    }
   ],
   "source": [
    "# s1-9\n",
    "n = int(input())\n",
    "res = []\n",
    "for i in range(n):\n",
    "    m = bin(int(input()))[2:]\n",
    "    print(m)\n",
    "    if(all(t == '1' for t in m)):\n",
    "        res.append(True)\n",
    "    else:\n",
    "        res.append(False)\n",
    "print(','.join(str(i) for i in res))"
   ]
  },
  {
   "cell_type": "code",
   "execution_count": 2,
   "metadata": {},
   "outputs": [
    {
     "name": "stdout",
     "output_type": "stream",
     "text": [
      "True\n"
     ]
    }
   ],
   "source": [
    "print('b'>'a' and 'b'<'z')"
   ]
  },
  {
   "cell_type": "code",
   "execution_count": 1,
   "metadata": {},
   "outputs": [
    {
     "name": "stdout",
     "output_type": "stream",
     "text": [
      "9\n",
      "True\n"
     ]
    }
   ],
   "source": [
    "print(ord('9')-ord('0'))\n",
    "print('3'.isdigit())"
   ]
  },
  {
   "cell_type": "code",
   "execution_count": 1,
   "metadata": {},
   "outputs": [
    {
     "name": "stdout",
     "output_type": "stream",
     "text": [
      "1 2 3\n",
      "1 2 3\n"
     ]
    },
    {
     "data": {
      "text/plain": [
       "[1, 2, 3]"
      ]
     },
     "execution_count": 1,
     "metadata": {},
     "output_type": "execute_result"
    }
   ],
   "source": [
    "li = [1, 2, 3]\n",
    "print(*li)\n",
    "print(' '.join(str(i) for i in li))\n",
    "[*li]\n"
   ]
  },
  {
   "cell_type": "code",
   "execution_count": 19,
   "metadata": {},
   "outputs": [
    {
     "data": {
      "text/plain": [
       "[2, 1, 0]"
      ]
     },
     "execution_count": 19,
     "metadata": {},
     "output_type": "execute_result"
    }
   ],
   "source": [
    "[_ for _ in range(2, -1, -1)]\n"
   ]
  },
  {
   "cell_type": "code",
   "execution_count": 10,
   "metadata": {},
   "outputs": [
    {
     "data": {
      "text/plain": [
       "'0b10'"
      ]
     },
     "execution_count": 10,
     "metadata": {},
     "output_type": "execute_result"
    }
   ],
   "source": [
    "a = 0b1\n",
    "bin(a<<1)\n",
    "# bin(a)"
   ]
  },
  {
   "cell_type": "code",
   "execution_count": null,
   "metadata": {},
   "outputs": [],
   "source": [
    "# 044,s5-4\n",
    "class Stack:\n",
    "    def __init__(self):\n",
    "        self.stack = []\n",
    "\n",
    "    def push(self, n):\n",
    "        self.stack.append(n)\n",
    "\n",
    "    def pop(self):\n",
    "        if not self.stack:\n",
    "            return\n",
    "        self.stack.pop()\n",
    "\n",
    "    def out(self):\n",
    "        print(*self.stack)\n",
    "\n",
    "\n",
    "s = Stack()\n",
    "while(1):\n",
    "    try:\n",
    "        li = input()  # 现在是每一次的2后面都有空格，然后以eof为截止符\n",
    "    except:\n",
    "        break\n",
    "    if '1' == li[0]:\n",
    "        s.push(int(li[2:]))\n",
    "    else:\n",
    "        s.pop()\n",
    "s.out()"
   ]
  },
  {
   "cell_type": "code",
   "execution_count": 59,
   "metadata": {},
   "outputs": [
    {
     "name": "stdout",
     "output_type": "stream",
     "text": [
      "[[9 11 13]\n",
      " [9 11 13]\n",
      " [9 11 13]]\n"
     ]
    }
   ],
   "source": [
    "# T061\n",
    "s = input()\n",
    "arr = list(map(int, s[1:len(s)-1].split(',')))\n",
    "# print(arr)\n",
    "mean = float(sum(arr))/len(arr)\n",
    "arr = [i for i in arr if i > mean]\n",
    "a = \" \".join(str(i) for i in arr)\n",
    "s = \"[[\"\n",
    "for i in range(len(arr)-1):\n",
    "    s += a+\"]\\n\"+\" [\"\n",
    "    # s = \"[[\"+a+\"]\\n\"+\" [\"+a+\"]\\n\"+\" [\"+a+\"]]\"\n",
    "s += a+\"]]\"\n",
    "print(s)\n"
   ]
  },
  {
   "cell_type": "code",
   "execution_count": 96,
   "metadata": {},
   "outputs": [
    {
     "ename": "ValueError",
     "evalue": "setting an array element with a sequence. The requested array has an inhomogeneous shape after 1 dimensions. The detected shape was (2,) + inhomogeneous part.",
     "output_type": "error",
     "traceback": [
      "\u001b[1;31m---------------------------------------------------------------------------\u001b[0m",
      "\u001b[1;31mValueError\u001b[0m                                Traceback (most recent call last)",
      "\u001b[1;32m~\\AppData\\Local\\Temp/ipykernel_15432/916559341.py\u001b[0m in \u001b[0;36m<module>\u001b[1;34m\u001b[0m\n\u001b[0;32m      2\u001b[0m \u001b[1;32mimport\u001b[0m \u001b[0mnumpy\u001b[0m \u001b[1;32mas\u001b[0m \u001b[0mnp\u001b[0m\u001b[1;33m\u001b[0m\u001b[1;33m\u001b[0m\u001b[0m\n\u001b[0;32m      3\u001b[0m \u001b[0ms\u001b[0m \u001b[1;33m=\u001b[0m \u001b[0minput\u001b[0m\u001b[1;33m(\u001b[0m\u001b[1;33m)\u001b[0m\u001b[1;33m\u001b[0m\u001b[1;33m\u001b[0m\u001b[0m\n\u001b[1;32m----> 4\u001b[1;33m \u001b[0ma\u001b[0m\u001b[1;33m=\u001b[0m\u001b[0mnp\u001b[0m\u001b[1;33m.\u001b[0m\u001b[0marray\u001b[0m\u001b[1;33m(\u001b[0m\u001b[0mnp\u001b[0m\u001b[1;33m.\u001b[0m\u001b[0msafe_eval\u001b[0m\u001b[1;33m(\u001b[0m\u001b[0ms\u001b[0m\u001b[1;33m)\u001b[0m\u001b[1;33m,\u001b[0m\u001b[0mdtype\u001b[0m\u001b[1;33m=\u001b[0m\u001b[0mint\u001b[0m\u001b[1;33m)\u001b[0m\u001b[1;33m\u001b[0m\u001b[1;33m\u001b[0m\u001b[0m\n\u001b[0m\u001b[0;32m      5\u001b[0m \u001b[0mprint\u001b[0m\u001b[1;33m(\u001b[0m\u001b[0ma\u001b[0m\u001b[1;33m)\u001b[0m\u001b[1;33m\u001b[0m\u001b[1;33m\u001b[0m\u001b[0m\n",
      "\u001b[1;31mValueError\u001b[0m: setting an array element with a sequence. The requested array has an inhomogeneous shape after 1 dimensions. The detected shape was (2,) + inhomogeneous part."
     ]
    }
   ],
   "source": [
    "# numpy input\n",
    "import numpy as np\n",
    "s = input()\n",
    "a=np.array(np.safe_eval(s),dtype=int)\n",
    "print(a)"
   ]
  },
  {
   "cell_type": "code",
   "execution_count": 2,
   "metadata": {},
   "outputs": [
    {
     "name": "stdout",
     "output_type": "stream",
     "text": [
      "[[0.17551799 0.40883174 0.56624828]\n",
      " [0.49481734 0.74967493 0.93851634]\n",
      " [0.76813068 0.02073073 0.69179365]]\n",
      "[[-1.28864515 -0.45208796  0.11233629]\n",
      " [-0.14378263  0.77002098  1.44712055]\n",
      " [ 0.83619492 -1.84364199  0.56248499]]\n"
     ]
    }
   ],
   "source": [
    "import numpy as np\n",
    "\n",
    "Z = np.array(eval(input()))\n",
    "print(Z)\n",
    "Z = (Z - np.mean(Z)) / (np.std(Z))\n",
    "print(Z)\n"
   ]
  },
  {
   "cell_type": "code",
   "execution_count": 25,
   "metadata": {},
   "outputs": [
    {
     "name": "stdout",
     "output_type": "stream",
     "text": [
      "1.115\n",
      "1.12\n",
      "1.12\n"
     ]
    }
   ],
   "source": [
    "print(\"{:.3f}\".format(1.1151))\n",
    "print(\"%.2f\" %(1.116))\n",
    "print(round(1.1151,2))"
   ]
  },
  {
   "cell_type": "code",
   "execution_count": 18,
   "metadata": {},
   "outputs": [
    {
     "name": "stdout",
     "output_type": "stream",
     "text": [
      "[[1 2]\n",
      " [2 3]\n",
      " [3 4]]\n",
      "1 2 2 3 3 4 1 2 2 3 3 4\n"
     ]
    }
   ],
   "source": [
    "# ndarray遍历\n",
    "\n",
    "import numpy as np\n",
    "\n",
    "a = np.array([[1,2], [2,3], [3,4]])\n",
    "print(a)\n",
    "for x in np.nditer(a):\n",
    "    print(x,end=' ')\n",
    "print(\" \".join(str(x) for x in np.nditer(a)))"
   ]
  },
  {
   "cell_type": "code",
   "execution_count": 14,
   "metadata": {},
   "outputs": [
    {
     "name": "stdout",
     "output_type": "stream",
     "text": [
      "[1 2 3]\n"
     ]
    }
   ],
   "source": [
    "import numpy as np\n",
    "a=np.array([[1,2,3],[4,5,6]])\n",
    "print(a[0,:])"
   ]
  },
  {
   "cell_type": "code",
   "execution_count": 30,
   "metadata": {},
   "outputs": [
    {
     "name": "stdout",
     "output_type": "stream",
     "text": [
      "[[ 0.  2. 10.]\n",
      " [ 2.  0.  8.]\n",
      " [10.  8.  0.]]\n",
      "[ 2. 10.  8.]\n",
      "[[ 0.  2. 10.]\n",
      " [ 2.  0.  8.]\n",
      " [10.  8.  0.]]\n",
      "[12. 10. 18.]\n",
      "1\n"
     ]
    }
   ],
   "source": [
    "from scipy.spatial.distance import cdist,pdist,squareform\n",
    "import numpy as np\n",
    "x1 =np.array([(0,0),(2,0),(10,0)])\n",
    "print(cdist(x1,x1))\n",
    "print(pdist(x1))\n",
    "print(squareform(pdist(x1)))\n",
    "print(cdist(x1,x1).sum(axis=0))\n",
    "print(squareform(pdist(x1)).sum(axis=1).argmin())"
   ]
  }
 ],
 "metadata": {
  "interpreter": {
   "hash": "dab5c9abae563ad9cd7ab7effa5197d6ba2bc837e2b938cb3505cb4be1f9ebba"
  },
  "kernelspec": {
   "display_name": "class_python_py38",
   "language": "python",
   "name": "python3"
  },
  "language_info": {
   "codemirror_mode": {
    "name": "ipython",
    "version": 3
   },
   "file_extension": ".py",
   "mimetype": "text/x-python",
   "name": "python",
   "nbconvert_exporter": "python",
   "pygments_lexer": "ipython3",
   "version": "3.7.11"
  }
 },
 "nbformat": 4,
 "nbformat_minor": 2
}
