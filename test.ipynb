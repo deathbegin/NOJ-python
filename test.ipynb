{
 "cells": [
  {
   "cell_type": "code",
   "execution_count": null,
   "metadata": {},
   "outputs": [],
   "source": [
    "str = ['ab', 'abc', 'addddddd']\n",
    "z = zip(*str)\n",
    "c =list(z)\n",
    "print(c)\n",
    "\n",
    "res = \"\"\n",
    "for tmp in zip(*str):\n",
    "    print(tmp)\n",
    "    tmp_set = set(tmp)\n",
    "    print(list(tmp_set))\n",
    "    if len(tmp_set) == 1:\n",
    "        res += tmp[0]\n",
    "    else:\n",
    "        break\n",
    "print(res)"
   ]
  },
  {
   "cell_type": "code",
   "execution_count": 6,
   "metadata": {},
   "outputs": [
    {
     "name": "stdout",
     "output_type": "stream",
     "text": [
      "1+1j\n",
      "1-1j\n",
      "(2+0j),2j,(2+0j),1j,(1-1j),1.4142135623730951\n"
     ]
    }
   ],
   "source": [
    "# s1-8\n",
    "c1 = complex(input())\n",
    "c2 = complex(input())\n",
    "s = c1+c2\n",
    "diff = c1 - c2\n",
    "mul = c1*c2\n",
    "quo = 'ERROR' if (c2 == 0) else c1/c2\n",
    "conj = c1.conjugate()\n",
    "absc = abs(c1)\n",
    "print(\"{},{},{},{},{},{}\".format(s, diff, mul, quo, conj, absc))"
   ]
  },
  {
   "cell_type": "code",
   "execution_count": 11,
   "metadata": {},
   "outputs": [
    {
     "name": "stdout",
     "output_type": "stream",
     "text": [
      "2\n",
      "15\n",
      "1111\n",
      "16\n",
      "10000\n",
      "True,False\n"
     ]
    }
   ],
   "source": [
    "# s1-9\n",
    "n = int(input())\n",
    "res = []\n",
    "for i in range(n):\n",
    "    m = bin(int(input()))[2:]\n",
    "    print(m)\n",
    "    if(all(t == '1' for t in m)):\n",
    "        res.append(True)\n",
    "    else:\n",
    "        res.append(False)\n",
    "print(','.join(str(i) for i in res))"
   ]
  },
  {
   "cell_type": "code",
   "execution_count": 2,
   "metadata": {},
   "outputs": [
    {
     "name": "stdout",
     "output_type": "stream",
     "text": [
      "True\n"
     ]
    }
   ],
   "source": [
    "print('b'>'a' and 'b'<'z')"
   ]
  },
  {
   "cell_type": "code",
   "execution_count": 1,
   "metadata": {},
   "outputs": [
    {
     "name": "stdout",
     "output_type": "stream",
     "text": [
      "9\n",
      "True\n"
     ]
    }
   ],
   "source": [
    "print(ord('9')-ord('0'))\n",
    "print('3'.isdigit())"
   ]
  },
  {
   "cell_type": "code",
   "execution_count": 12,
   "metadata": {},
   "outputs": [
    {
     "name": "stdout",
     "output_type": "stream",
     "text": [
      "1 2 3\n",
      "1 2 3\n"
     ]
    },
    {
     "data": {
      "text/plain": [
       "[1, 2, 3]"
      ]
     },
     "execution_count": 12,
     "metadata": {},
     "output_type": "execute_result"
    }
   ],
   "source": [
    "li = [1, 2, 3]\n",
    "print(*li)\n",
    "print(' '.join(str(i) for i in li))\n",
    "[*li]\n"
   ]
  },
  {
   "cell_type": "code",
   "execution_count": 19,
   "metadata": {},
   "outputs": [
    {
     "data": {
      "text/plain": [
       "[2, 1, 0]"
      ]
     },
     "execution_count": 19,
     "metadata": {},
     "output_type": "execute_result"
    }
   ],
   "source": [
    "[_ for _ in range(2, -1, -1)]\n"
   ]
  },
  {
   "cell_type": "code",
   "execution_count": 14,
   "metadata": {},
   "outputs": [
    {
     "data": {
      "text/plain": [
       "'0b10'"
      ]
     },
     "execution_count": 14,
     "metadata": {},
     "output_type": "execute_result"
    }
   ],
   "source": [
    "a = 0b1\n",
    "bin(a<<1)\n",
    "# bin(a)"
   ]
  },
  {
   "cell_type": "code",
   "execution_count": null,
   "metadata": {},
   "outputs": [],
   "source": [
    "# 044,s5-4\n",
    "class Stack:\n",
    "    def __init__(self):\n",
    "        self.stack = []\n",
    "\n",
    "    def push(self, n):\n",
    "        self.stack.append(n)\n",
    "\n",
    "    def pop(self):\n",
    "        if not self.stack:\n",
    "            return\n",
    "        self.stack.pop()\n",
    "\n",
    "    def out(self):\n",
    "        print(*self.stack)\n",
    "\n",
    "\n",
    "s = Stack()\n",
    "while(1):\n",
    "    try:\n",
    "        li = input()  # 现在是每一次的2后面都有空格，然后以eof为截止符\n",
    "    except:\n",
    "        break\n",
    "    if '1' == li[0]:\n",
    "        s.push(int(li[2:]))\n",
    "    else:\n",
    "        s.pop()\n",
    "s.out()"
   ]
  }
 ],
 "metadata": {
  "interpreter": {
   "hash": "22a32f74c5cbc7599371b4cefea49d57da2dd14ce40b10f87a18ec4d4263aaab"
  },
  "kernelspec": {
   "display_name": "Python 3.9.7 64-bit ('py39_class': conda)",
   "name": "python3"
  },
  "language_info": {
   "codemirror_mode": {
    "name": "ipython",
    "version": 3
   },
   "file_extension": ".py",
   "mimetype": "text/x-python",
   "name": "python",
   "nbconvert_exporter": "python",
   "pygments_lexer": "ipython3",
   "version": "3.9.7"
  }
 },
 "nbformat": 4,
 "nbformat_minor": 2
}
