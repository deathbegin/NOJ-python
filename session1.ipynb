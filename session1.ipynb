{
 "cells": [
  {
   "cell_type": "code",
   "execution_count": null,
   "metadata": {},
   "outputs": [],
   "source": [
    "#s1-2\n",
    "a = int(input())\n",
    "b = int(input())\n",
    "c = input()\n",
    "try:\n",
    "    if ('+' == c):\n",
    "        d = a+b\n",
    "    elif ('-' == c):\n",
    "        d = a-b\n",
    "    elif ('*' == c):\n",
    "        d = a*b\n",
    "    elif ('/' == c):\n",
    "        d = a/b\n",
    "    elif ('//' == c):\n",
    "        d = a//b\n",
    "    elif ('%' == c):\n",
    "        d = a % b\n",
    "    elif ('**' == c):\n",
    "        d = a**b\n",
    "    else:\n",
    "        d = False\n",
    "except:\n",
    "    print(\"ERROR\")\n",
    "else:\n",
    "    if (d == False):\n",
    "        print(\"ERROR\")\n",
    "    else:\n",
    "        print('{}{}{}{}{}'.format(a, c, b, \"=\", d))"
   ]
  },
  {
   "cell_type": "code",
   "execution_count": 1,
   "metadata": {},
   "outputs": [],
   "source": [
    "#s1-3\n"
   ]
  }
 ],
 "metadata": {
  "interpreter": {
   "hash": "fe735c2e827c98ed198d44ea50cc72fa1f144a2f6a5cb0c79a74e1c61903b7dc"
  },
  "kernelspec": {
   "display_name": "Python 3.7.11 64-bit ('py37': conda)",
   "name": "python3"
  },
  "language_info": {
   "codemirror_mode": {
    "name": "ipython",
    "version": 3
   },
   "file_extension": ".py",
   "mimetype": "text/x-python",
   "name": "python",
   "nbconvert_exporter": "python",
   "pygments_lexer": "ipython3",
   "version": "3.7.11"
  }
 },
 "nbformat": 4,
 "nbformat_minor": 2
}
