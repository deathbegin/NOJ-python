{
 "cells": [
  {
   "cell_type": "code",
   "execution_count": null,
   "metadata": {},
   "outputs": [],
   "source": [
    "#s1-2\n",
    "a = int(input())\n",
    "b = int(input())\n",
    "c = input()\n",
    "try:\n",
    "    if ('+' == c):\n",
    "        d = a+b\n",
    "    elif ('-' == c):\n",
    "        d = a-b\n",
    "    elif ('*' == c):\n",
    "        d = a*b\n",
    "    elif ('/' == c):\n",
    "        d = a/b\n",
    "    elif ('//' == c):\n",
    "        d = a//b\n",
    "    elif ('%' == c):\n",
    "        d = a % b\n",
    "    elif ('**' == c):\n",
    "        d = a**b\n",
    "    else:\n",
    "        d = False\n",
    "except:\n",
    "    print(\"ERROR\")\n",
    "else:\n",
    "    if (d == False):\n",
    "        print(\"ERROR\")\n",
    "    else:\n",
    "        print('{}{}{}{}{}'.format(a, c, b, \"=\", d))"
   ]
  },
  {
   "cell_type": "code",
   "execution_count": 21,
   "metadata": {},
   "outputs": [
    {
     "name": "stdout",
     "output_type": "stream",
     "text": [
      "8\n",
      "0\n",
      "1000\n"
     ]
    }
   ],
   "source": [
    "# s1-3\n",
    "m = int(input())\n",
    "n = int(input())\n",
    "m = bin(m)[2:].zfill(n)\n",
    "print(m)"
   ]
  },
  {
   "cell_type": "code",
   "execution_count": null,
   "metadata": {},
   "outputs": [],
   "source": []
  }
 ],
 "metadata": {
  "interpreter": {
   "hash": "fe735c2e827c98ed198d44ea50cc72fa1f144a2f6a5cb0c79a74e1c61903b7dc"
  },
  "kernelspec": {
   "display_name": "Python 3 (ipykernel)",
   "language": "python",
   "name": "python3"
  },
  "language_info": {
   "codemirror_mode": {
    "name": "ipython",
    "version": 3
   },
   "file_extension": ".py",
   "mimetype": "text/x-python",
   "name": "python",
   "nbconvert_exporter": "python",
   "pygments_lexer": "ipython3",
   "version": "3.7.11"
  }
 },
 "nbformat": 4,
 "nbformat_minor": 2
}
