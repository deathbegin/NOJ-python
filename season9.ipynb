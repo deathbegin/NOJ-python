{
 "cells": [
  {
   "cell_type": "code",
   "execution_count": null,
   "metadata": {},
   "outputs": [],
   "source": [
    "# T081,s9-1\n",
    "import numpy as np\n",
    "from scipy.integrate import odeint\n",
    "\n",
    "def func(y_list,x):\n",
    "    dy,y=y_list\n",
    "    return np.array([dy,-y])\n",
    "n = int(input())\n",
    "x=np.linspace(0,10,100)\n",
    "y0=[1，]\n",
    "result=odeint(func,)"
   ]
  }
 ],
 "metadata": {
  "interpreter": {
   "hash": "fe735c2e827c98ed198d44ea50cc72fa1f144a2f6a5cb0c79a74e1c61903b7dc"
  },
  "kernelspec": {
   "display_name": "Python 3.7.11 64-bit ('py37': conda)",
   "name": "python3"
  },
  "language_info": {
   "name": "python",
   "version": "3.7.11"
  },
  "orig_nbformat": 4
 },
 "nbformat": 4,
 "nbformat_minor": 2
}
