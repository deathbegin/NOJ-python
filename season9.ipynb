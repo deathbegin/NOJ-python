{
 "cells": [
  {
   "cell_type": "code",
   "execution_count": 6,
   "metadata": {},
   "outputs": [
    {
     "name": "stdout",
     "output_type": "stream",
     "text": [
      "-0.675 1.243\n"
     ]
    }
   ],
   "source": [
    "# T081,s9-1\n",
    "import numpy as np\n",
    "from scipy.integrate import odeint\n",
    "\n",
    "\n",
    "def func(y_list, x):\n",
    "    # 二阶要化成一阶来计算。注意变量的顺序是计算的顺序\n",
    "    # dy/dx=z,dz/dx+y=0\n",
    "    y, z = y_list\n",
    "    return np.array([z, -y])\n",
    "\n",
    "\n",
    "n = int(input())\n",
    "x = np.linspace(0, n, n)\n",
    "y0 = [1, 1]\n",
    "result = odeint(func, y0, x)\n",
    "print(\"%.3f %.3f\" % (result[:, 0][-1], result[:, 1][-1]))\n",
    "# print(round(result[:, 0][-1],3))\n",
    "# print(round(result[:, 1][-1],3))\n"
   ]
  },
  {
   "cell_type": "code",
   "execution_count": 34,
   "metadata": {},
   "outputs": [
    {
     "name": "stdout",
     "output_type": "stream",
     "text": [
      "1.413 -171.934\n"
     ]
    }
   ],
   "source": [
    "# T082,s9-2\n",
    "import numpy as np\n",
    "from scipy.optimize import curve_fit\n",
    "\n",
    "\n",
    "def func(x, a, b):\n",
    "    return a*x+b\n",
    "\n",
    "\n",
    "n = int(input())\n",
    "x = [None]*n\n",
    "y = [None]*n\n",
    "for i in range(n):\n",
    "    x[i], y[i] = map(int, input().split())\n",
    "# print(x, y)\n",
    "popt, pcov = curve_fit(func, x, y)\n",
    "print('{:.3f} {:.3f}'.format(popt[0],popt[1]))\n",
    "# print(pcov)\n"
   ]
  },
  {
   "cell_type": "code",
   "execution_count": 59,
   "metadata": {},
   "outputs": [
    {
     "name": "stdout",
     "output_type": "stream",
     "text": [
      "0.022\n"
     ]
    }
   ],
   "source": [
    "# T083,s9-3\n",
    "import numpy as np\n",
    "from scipy import interpolate\n",
    "\n",
    "\n",
    "def func(x):\n",
    "    return np.cos(x)\n",
    "\n",
    "\n",
    "n = int(input())\n",
    "x = np.linspace(0, 10*np.pi, num=20)\n",
    "y = func(x)\n",
    "ynew = np.cos(np.linspace(0, 10*np.pi, n))\n",
    "# print(ynew)\n",
    "\n",
    "f = interpolate.interp1d(x, y, kind='cubic')\n",
    "ycubic = f(np.linspace(0, 10*np.pi, n))\n",
    "# print(ycubic)\n",
    "\n",
    "f = interpolate.interp1d(x, y, 'linear')\n",
    "yl = f(np.linspace(0, 10*np.pi, n))\n",
    "# print(yl)\n",
    "\n",
    "# print(1/n*np.sum((ycubic-ynew)**2))\n",
    "# print(1/n*np.sum((yl-ynew)**2))\n",
    "print('%.3f' %(1/n*np.sum((yl-ycubic)**2)))\n"
   ]
  },
  {
   "cell_type": "code",
   "execution_count": 5,
   "metadata": {},
   "outputs": [
    {
     "data": {
      "text/plain": [
       "0.0"
      ]
     },
     "execution_count": 5,
     "metadata": {},
     "output_type": "execute_result"
    }
   ],
   "source": [
    "# T084,s9-4\n",
    "import numpy as np\n",
    "import scipy.sparse as sparse\n"
   ]
  },
  {
   "cell_type": "code",
   "execution_count": 72,
   "metadata": {},
   "outputs": [
    {
     "name": "stdout",
     "output_type": "stream",
     "text": [
      "[[ 5.]\n",
      " [10.]\n",
      " [15.]]\n",
      "5.0 10.0 15.0 "
     ]
    }
   ],
   "source": [
    "# T085,s9-5\n",
    "import numpy as np\n",
    "\n",
    "A1 = np.array(input().split(), dtype=int)  # x的系数\n",
    "A2 = np.array(input().split(), dtype=int)  # y的系数\n",
    "A3 = np.array(input().split(), dtype=int)  # z的系数\n",
    "A = np.vstack((A1, A2, A3))\n",
    "# print(A)\n",
    "\n",
    "B = []\n",
    "for i in range(3):\n",
    "    B.append(int(input()))\n",
    "B = np.array([B]).T\n",
    "# print(B)\n",
    "\n",
    "try:\n",
    "    x = np.round(np.linalg.solve(A, B), 1)\n",
    "    # print(x)\n",
    "except:\n",
    "    print(\"No Solution!\")\n",
    "# print(x)\n",
    "for res in np.nditer(x):\n",
    "    print(res,end=' ')"
   ]
  },
  {
   "cell_type": "code",
   "execution_count": 7,
   "metadata": {},
   "outputs": [
    {
     "name": "stdout",
     "output_type": "stream",
     "text": [
      "7.5\n"
     ]
    }
   ],
   "source": [
    "# 086,s9-6\n",
    "from scipy import integrate\n",
    "\n",
    "\n",
    "def f(x): return x+1\n",
    "\n",
    "\n",
    "a, b = map(int, input().split())\n",
    "res = integrate.quad(f, a, b)\n",
    "print(round(res[0], 1))\n"
   ]
  },
  {
   "cell_type": "code",
   "execution_count": 18,
   "metadata": {},
   "outputs": [
    {
     "data": {
      "text/plain": [
       "0.8413447460685429"
      ]
     },
     "execution_count": 18,
     "metadata": {},
     "output_type": "execute_result"
    }
   ],
   "source": [
    "# 087,s9-7\n",
    "from scipy import stats\n",
    "import numpy as np\n",
    "# n = int(input())\n",
    "# m = int(input())\n",
    "\n",
    "stats.norm.cdf(1)\n"
   ]
  }
 ],
 "metadata": {
  "interpreter": {
   "hash": "fe735c2e827c98ed198d44ea50cc72fa1f144a2f6a5cb0c79a74e1c61903b7dc"
  },
  "kernelspec": {
   "display_name": "Python 3.7.11 64-bit ('py37': conda)",
   "name": "python3"
  },
  "language_info": {
   "codemirror_mode": {
    "name": "ipython",
    "version": 3
   },
   "file_extension": ".py",
   "mimetype": "text/x-python",
   "name": "python",
   "nbconvert_exporter": "python",
   "pygments_lexer": "ipython3",
   "version": "3.7.11"
  },
  "orig_nbformat": 4
 },
 "nbformat": 4,
 "nbformat_minor": 2
}
