{
 "cells": [
  {
   "cell_type": "code",
   "execution_count": 49,
   "metadata": {},
   "outputs": [
    {
     "name": "stdout",
     "output_type": "stream",
     "text": [
      "[ 1.          1.26430694 -0.20267143 -1.39212066 -0.67526213]\n",
      "[ 1.         -0.63366225 -1.39961572 -0.24899807  1.24258643]\n"
     ]
    }
   ],
   "source": [
    "# T081,s9-1\n",
    "import numpy as np\n",
    "from scipy.integrate import odeint\n",
    "\n",
    "def func(y_list, x):\n",
    "    #二阶要化成一阶来计算。注意变量的顺序是计算的顺序\n",
    "    y,z = y_list\n",
    "    return np.array([z, -y])\n",
    "\n",
    "\n",
    "n = int(input())\n",
    "x=np.linspace(0,n,n)\n",
    "y0=[1,1]\n",
    "result=odeint(func,y0,x)\n",
    "print(result[:, 0])\n",
    "print(result[:, 1])\n"
   ]
  }
 ],
 "metadata": {
  "interpreter": {
   "hash": "fe735c2e827c98ed198d44ea50cc72fa1f144a2f6a5cb0c79a74e1c61903b7dc"
  },
  "kernelspec": {
   "display_name": "Python 3.7.11 64-bit ('py37': conda)",
   "name": "python3"
  },
  "language_info": {
   "name": "python",
   "version": "3.7.11"
  },
  "orig_nbformat": 4
 },
 "nbformat": 4,
 "nbformat_minor": 2
}
